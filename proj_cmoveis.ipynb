{
 "cells": [
  {
   "cell_type": "code",
   "execution_count": 2,
   "metadata": {},
   "outputs": [],
   "source": [
    "from importlib import reload\n",
    "import numpy as np\n",
    "import folium\n",
    "import src.localization as localization\n",
    "reload(localization)\n",
    "from src.localization import read_data\n",
    "from src.localization import plot_coeffs\n",
    "from src.localization import get_distance_in_meters\n",
    "from src.localization import gen_regressors\n",
    "from src.localization import gen_fingerprints\n",
    "from src.localization import cell_search\n",
    "import pandas as pd"
   ]
  },
  {
   "cell_type": "code",
   "execution_count": 12,
   "metadata": {},
   "outputs": [],
   "source": [
    "positions, df_points = read_data('LocTreino_Equipe_7.csv')"
   ]
  },
  {
   "cell_type": "code",
   "execution_count": 16,
   "metadata": {},
   "outputs": [],
   "source": [
    "bts_positions, df_btss = read_data('Bts.csv')"
   ]
  },
  {
   "cell_type": "code",
   "execution_count": 25,
   "metadata": {},
   "outputs": [],
   "source": [
    "center_lat = np.mean([lat for lat in bts_positions[:, 0]])\n",
    "center_lon = np.mean([lon for lon in bts_positions[:, 1]])\n",
    "original_pts_map = folium.Map(location=[center_lat, center_lon],\n",
    "                              zoom_start=15,\n",
    "                              tiles='CartoDB positron')"
   ]
  },
  {
   "cell_type": "code",
   "execution_count": 40,
   "metadata": {},
   "outputs": [
    {
     "data": {
      "text/plain": [
       "array([[ -8.0535 , -34.94862],\n",
       "       [ -8.05004, -34.95311],\n",
       "       [ -8.04802, -34.94762],\n",
       "       ...,\n",
       "       [ -8.05233, -34.94834],\n",
       "       [ -8.05559, -34.95374],\n",
       "       [ -8.0537 , -34.95964]])"
      ]
     },
     "execution_count": 40,
     "metadata": {},
     "output_type": "execute_result"
    }
   ],
   "source": [
    "positions"
   ]
  },
  {
   "cell_type": "code",
   "execution_count": 27,
   "metadata": {},
   "outputs": [],
   "source": [
    "# Plot points\n",
    "for location in positions:\n",
    "    marker = folium.CircleMarker(location=location,\n",
    "                                 radius=0.5,\n",
    "                                 color='red',\n",
    "                                 fill_opacity=0.1)\n",
    "    marker.add_to(original_pts_map)\n",
    "\n",
    "# Plot BTSs locations\n",
    "for location in bts_positions:\n",
    "    marker = folium.Marker(location=location)\n",
    "    marker.add_to(original_pts_map)\n",
    "\n",
    "# Export map\n",
    "original_pts_map.save(\"original_pts.html\")"
   ]
  },
  {
   "cell_type": "code",
   "execution_count": 28,
   "metadata": {},
   "outputs": [],
   "source": [
    "from sklearn import neighbors"
   ]
  },
  {
   "cell_type": "code",
   "execution_count": 29,
   "metadata": {},
   "outputs": [],
   "source": [
    "# Choose columns to keep in X \n",
    "# (remove unimportant/target columns)\n",
    "columns = [c for c in df_points.columns if c not in ['pontoId',\n",
    "                                                     'lat',\n",
    "                                                     'lon']]\n",
    "\n",
    "# X\n",
    "samples = df_points[columns].values\n",
    "\n",
    "# Y_lat\n",
    "target_lat = df_points['lat'].values\n",
    "# Y_lon\n",
    "target_lon = df_points['lon'].values"
   ]
  },
  {
   "cell_type": "code",
   "execution_count": 30,
   "metadata": {},
   "outputs": [],
   "source": [
    "lat_reg = neighbors.KNeighborsRegressor(n_neighbors=1)\n",
    "lon_reg = neighbors.KNeighborsRegressor(n_neighbors=1)"
   ]
  },
  {
   "cell_type": "code",
   "execution_count": 31,
   "metadata": {},
   "outputs": [
    {
     "data": {
      "text/plain": [
       "KNeighborsRegressor(algorithm='auto', leaf_size=30, metric='minkowski',\n",
       "                    metric_params=None, n_jobs=None, n_neighbors=1, p=2,\n",
       "                    weights='uniform')"
      ]
     },
     "execution_count": 31,
     "metadata": {},
     "output_type": "execute_result"
    }
   ],
   "source": [
    "lat_reg.fit(samples, target_lat)\n",
    "lon_reg.fit(samples, target_lon)"
   ]
  },
  {
   "cell_type": "code",
   "execution_count": 32,
   "metadata": {},
   "outputs": [],
   "source": [
    "predicted_lat = lat_reg.predict(samples)\n",
    "predicted_lon = lon_reg.predict(samples)"
   ]
  },
  {
   "cell_type": "code",
   "execution_count": 35,
   "metadata": {},
   "outputs": [],
   "source": [
    "# from folium.plugins import MarkerCluster\n",
    "folium_map = folium.Map(location=[center_lat, center_lon],\n",
    "                        zoom_start=15,\n",
    "                        tiles='CartoDB positron')\n",
    "# cluster = MarkerCluster(list(zip(predicted_lat, predicted_lon))).add_to(folium_map)\n",
    "predicted_positions = list(zip(predicted_lat, predicted_lon))\n",
    "for location in predicted_positions:\n",
    "    marker = folium.CircleMarker(location=location,\n",
    "                                 color='red',\n",
    "                                 weight=1,\n",
    "                                 radius=3)\n",
    "    marker.add_to(folium_map)\n",
    "for location in bts_positions:\n",
    "    marker = folium.Marker(location=location)\n",
    "    marker.add_to(folium_map)\n",
    "for p1, p2 in list(zip(positions, predicted_positions)):\n",
    "    folium.PolyLine([p1, p2],\n",
    "                    color=\"green\",\n",
    "                    weight=1,\n",
    "                    opacity=0.5).add_to(folium_map)\n",
    "folium_map.save(\"knn_result_map.html\")"
   ]
  },
  {
   "cell_type": "code",
   "execution_count": 38,
   "metadata": {},
   "outputs": [],
   "source": [
    "result_map = folium.Map(location=[center_lat, center_lon],\n",
    "                        zoom_start=15,\n",
    "                        tiles='CartoDB positron')\n",
    "\n",
    "predicted_positions = list(zip(predicted_lat, predicted_lon))\n",
    "for location in predicted_positions:\n",
    "    marker = folium.CircleMarker(location=location, color='red', radius=2)\n",
    "    marker.add_to(result_map)\n",
    "for location in positions:\n",
    "    marker = folium.CircleMarker(location=location, color='blue', radius=1)\n",
    "    marker.add_to(result_map)\n",
    "for location in bts_positions:\n",
    "    marker = folium.Marker(location=location)\n",
    "    marker.add_to(result_map)\n",
    "for p1, p2 in list(zip(positions, predicted_positions)):\n",
    "    folium.PolyLine([p1, p2], color=\"green\", weight=1, opacity=0.5).add_to(result_map)\n",
    "result_map.save(\"result_map.html\")"
   ]
  }
 ],
 "metadata": {
  "kernelspec": {
   "display_name": "Python 3",
   "language": "python",
   "name": "python3"
  },
  "language_info": {
   "codemirror_mode": {
    "name": "ipython",
    "version": 3
   },
   "file_extension": ".py",
   "mimetype": "text/x-python",
   "name": "python",
   "nbconvert_exporter": "python",
   "pygments_lexer": "ipython3",
   "version": "3.7.4"
  }
 },
 "nbformat": 4,
 "nbformat_minor": 2
}
