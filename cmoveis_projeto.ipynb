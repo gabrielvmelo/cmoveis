{
 "cells": [
  {
   "cell_type": "code",
   "execution_count": 28,
   "metadata": {},
   "outputs": [],
   "source": [
    "import pandas as pd\n",
    "import numpy as np\n",
    "from PyRadioLoc.Utils.GeoUtils import GeoUtils\n",
    "from matplotlib import pyplot as plt\n",
    "import folium"
   ]
  },
  {
   "cell_type": "code",
   "execution_count": 2,
   "metadata": {},
   "outputs": [
    {
     "data": {
      "text/html": [
       "<div>\n",
       "<style scoped>\n",
       "    .dataframe tbody tr th:only-of-type {\n",
       "        vertical-align: middle;\n",
       "    }\n",
       "\n",
       "    .dataframe tbody tr th {\n",
       "        vertical-align: top;\n",
       "    }\n",
       "\n",
       "    .dataframe thead th {\n",
       "        text-align: right;\n",
       "    }\n",
       "</style>\n",
       "<table border=\"1\" class=\"dataframe\">\n",
       "  <thead>\n",
       "    <tr style=\"text-align: right;\">\n",
       "      <th></th>\n",
       "      <th>lat</th>\n",
       "      <th>lon</th>\n",
       "      <th>rssi_1_1</th>\n",
       "      <th>rssi_1_2</th>\n",
       "      <th>rssi_1_3</th>\n",
       "      <th>rssi_2_1</th>\n",
       "      <th>rssi_2_2</th>\n",
       "      <th>rssi_2_3</th>\n",
       "      <th>rssi_3_1</th>\n",
       "      <th>rssi_3_2</th>\n",
       "      <th>rssi_3_3</th>\n",
       "      <th>delay_1</th>\n",
       "      <th>delay_2</th>\n",
       "      <th>delay_3</th>\n",
       "      <th>pontoId</th>\n",
       "    </tr>\n",
       "  </thead>\n",
       "  <tbody>\n",
       "    <tr>\n",
       "      <td>0</td>\n",
       "      <td>-8.05350</td>\n",
       "      <td>-34.94862</td>\n",
       "      <td>-84.430000</td>\n",
       "      <td>-87.840000</td>\n",
       "      <td>-88.682857</td>\n",
       "      <td>-68.080</td>\n",
       "      <td>-78.435000</td>\n",
       "      <td>-69.520000</td>\n",
       "      <td>-88.683333</td>\n",
       "      <td>-90.952</td>\n",
       "      <td>-97.2550</td>\n",
       "      <td>5</td>\n",
       "      <td>2</td>\n",
       "      <td>4</td>\n",
       "      <td>7718</td>\n",
       "    </tr>\n",
       "    <tr>\n",
       "      <td>1</td>\n",
       "      <td>-8.05004</td>\n",
       "      <td>-34.95311</td>\n",
       "      <td>-88.258571</td>\n",
       "      <td>-95.222857</td>\n",
       "      <td>-88.390000</td>\n",
       "      <td>-92.185</td>\n",
       "      <td>-92.125833</td>\n",
       "      <td>-91.580000</td>\n",
       "      <td>-94.210000</td>\n",
       "      <td>-97.358</td>\n",
       "      <td>-96.1825</td>\n",
       "      <td>3</td>\n",
       "      <td>4</td>\n",
       "      <td>3</td>\n",
       "      <td>8803</td>\n",
       "    </tr>\n",
       "    <tr>\n",
       "      <td>2</td>\n",
       "      <td>-8.04802</td>\n",
       "      <td>-34.94762</td>\n",
       "      <td>-96.996429</td>\n",
       "      <td>-80.504286</td>\n",
       "      <td>-93.993571</td>\n",
       "      <td>-90.760</td>\n",
       "      <td>-97.685000</td>\n",
       "      <td>-98.701429</td>\n",
       "      <td>-109.650000</td>\n",
       "      <td>-102.064</td>\n",
       "      <td>-94.4075</td>\n",
       "      <td>3</td>\n",
       "      <td>3</td>\n",
       "      <td>6</td>\n",
       "      <td>9375</td>\n",
       "    </tr>\n",
       "    <tr>\n",
       "      <td>3</td>\n",
       "      <td>-8.05192</td>\n",
       "      <td>-34.94780</td>\n",
       "      <td>-91.590000</td>\n",
       "      <td>-93.840000</td>\n",
       "      <td>-89.137143</td>\n",
       "      <td>-49.770</td>\n",
       "      <td>-68.682500</td>\n",
       "      <td>-79.268571</td>\n",
       "      <td>-90.726667</td>\n",
       "      <td>-98.048</td>\n",
       "      <td>-97.6000</td>\n",
       "      <td>4</td>\n",
       "      <td>2</td>\n",
       "      <td>5</td>\n",
       "      <td>8193</td>\n",
       "    </tr>\n",
       "    <tr>\n",
       "      <td>4</td>\n",
       "      <td>-8.05197</td>\n",
       "      <td>-34.95227</td>\n",
       "      <td>-80.772857</td>\n",
       "      <td>-92.857143</td>\n",
       "      <td>-78.750000</td>\n",
       "      <td>-85.390</td>\n",
       "      <td>-90.067500</td>\n",
       "      <td>-93.081429</td>\n",
       "      <td>-90.976667</td>\n",
       "      <td>-93.826</td>\n",
       "      <td>-95.6050</td>\n",
       "      <td>4</td>\n",
       "      <td>4</td>\n",
       "      <td>3</td>\n",
       "      <td>8152</td>\n",
       "    </tr>\n",
       "  </tbody>\n",
       "</table>\n",
       "</div>"
      ],
      "text/plain": [
       "       lat       lon   rssi_1_1   rssi_1_2   rssi_1_3  rssi_2_1   rssi_2_2  \\\n",
       "0 -8.05350 -34.94862 -84.430000 -87.840000 -88.682857   -68.080 -78.435000   \n",
       "1 -8.05004 -34.95311 -88.258571 -95.222857 -88.390000   -92.185 -92.125833   \n",
       "2 -8.04802 -34.94762 -96.996429 -80.504286 -93.993571   -90.760 -97.685000   \n",
       "3 -8.05192 -34.94780 -91.590000 -93.840000 -89.137143   -49.770 -68.682500   \n",
       "4 -8.05197 -34.95227 -80.772857 -92.857143 -78.750000   -85.390 -90.067500   \n",
       "\n",
       "    rssi_2_3    rssi_3_1  rssi_3_2  rssi_3_3  delay_1  delay_2  delay_3  \\\n",
       "0 -69.520000  -88.683333   -90.952  -97.2550        5        2        4   \n",
       "1 -91.580000  -94.210000   -97.358  -96.1825        3        4        3   \n",
       "2 -98.701429 -109.650000  -102.064  -94.4075        3        3        6   \n",
       "3 -79.268571  -90.726667   -98.048  -97.6000        4        2        5   \n",
       "4 -93.081429  -90.976667   -93.826  -95.6050        4        4        3   \n",
       "\n",
       "   pontoId  \n",
       "0     7718  \n",
       "1     8803  \n",
       "2     9375  \n",
       "3     8193  \n",
       "4     8152  "
      ]
     },
     "execution_count": 2,
     "metadata": {},
     "output_type": "execute_result"
    }
   ],
   "source": [
    "ds = pd.read_csv(\"LocTreino_Equipe_7.csv\")\n",
    "ds.head()"
   ]
  },
  {
   "cell_type": "code",
   "execution_count": 3,
   "metadata": {},
   "outputs": [
    {
     "data": {
      "text/plain": [
       "(1500, 15)"
      ]
     },
     "execution_count": 3,
     "metadata": {},
     "output_type": "execute_result"
    }
   ],
   "source": [
    "ds.shape"
   ]
  },
  {
   "cell_type": "code",
   "execution_count": 4,
   "metadata": {},
   "outputs": [
    {
     "data": {
      "text/html": [
       "<div>\n",
       "<style scoped>\n",
       "    .dataframe tbody tr th:only-of-type {\n",
       "        vertical-align: middle;\n",
       "    }\n",
       "\n",
       "    .dataframe tbody tr th {\n",
       "        vertical-align: top;\n",
       "    }\n",
       "\n",
       "    .dataframe thead th {\n",
       "        text-align: right;\n",
       "    }\n",
       "</style>\n",
       "<table border=\"1\" class=\"dataframe\">\n",
       "  <thead>\n",
       "    <tr style=\"text-align: right;\">\n",
       "      <th></th>\n",
       "      <th>grupo</th>\n",
       "      <th>btsId</th>\n",
       "      <th>lat</th>\n",
       "      <th>lon</th>\n",
       "      <th>cch</th>\n",
       "      <th>azimuth</th>\n",
       "      <th>RssiId</th>\n",
       "      <th>Eirp</th>\n",
       "    </tr>\n",
       "  </thead>\n",
       "  <tbody>\n",
       "    <tr>\n",
       "      <td>0</td>\n",
       "      <td>1</td>\n",
       "      <td>BTS_1_1</td>\n",
       "      <td>-8.04342</td>\n",
       "      <td>-34.952000</td>\n",
       "      <td>873</td>\n",
       "      <td>0</td>\n",
       "      <td>rssi_1_1</td>\n",
       "      <td>55.59</td>\n",
       "    </tr>\n",
       "    <tr>\n",
       "      <td>1</td>\n",
       "      <td>1</td>\n",
       "      <td>BTS_1_2</td>\n",
       "      <td>-8.04342</td>\n",
       "      <td>-34.952000</td>\n",
       "      <td>872</td>\n",
       "      <td>120</td>\n",
       "      <td>rssi_1_2</td>\n",
       "      <td>55.59</td>\n",
       "    </tr>\n",
       "    <tr>\n",
       "      <td>2</td>\n",
       "      <td>1</td>\n",
       "      <td>BTS_1_3</td>\n",
       "      <td>-8.04342</td>\n",
       "      <td>-34.952000</td>\n",
       "      <td>875</td>\n",
       "      <td>240</td>\n",
       "      <td>rssi_1_3</td>\n",
       "      <td>55.59</td>\n",
       "    </tr>\n",
       "    <tr>\n",
       "      <td>3</td>\n",
       "      <td>2</td>\n",
       "      <td>BTS_2_1</td>\n",
       "      <td>-8.05289</td>\n",
       "      <td>-34.944672</td>\n",
       "      <td>865</td>\n",
       "      <td>0</td>\n",
       "      <td>rssi_2_1</td>\n",
       "      <td>55.59</td>\n",
       "    </tr>\n",
       "    <tr>\n",
       "      <td>4</td>\n",
       "      <td>2</td>\n",
       "      <td>BTS_2_2</td>\n",
       "      <td>-8.05289</td>\n",
       "      <td>-34.944672</td>\n",
       "      <td>874</td>\n",
       "      <td>120</td>\n",
       "      <td>rssi_2_2</td>\n",
       "      <td>55.59</td>\n",
       "    </tr>\n",
       "    <tr>\n",
       "      <td>5</td>\n",
       "      <td>2</td>\n",
       "      <td>BTS_2_3</td>\n",
       "      <td>-8.05289</td>\n",
       "      <td>-34.944672</td>\n",
       "      <td>871</td>\n",
       "      <td>240</td>\n",
       "      <td>rssi_2_3</td>\n",
       "      <td>55.59</td>\n",
       "    </tr>\n",
       "    <tr>\n",
       "      <td>6</td>\n",
       "      <td>3</td>\n",
       "      <td>BTS_3_1</td>\n",
       "      <td>-8.05532</td>\n",
       "      <td>-34.957900</td>\n",
       "      <td>877</td>\n",
       "      <td>0</td>\n",
       "      <td>rssi_3_1</td>\n",
       "      <td>55.59</td>\n",
       "    </tr>\n",
       "    <tr>\n",
       "      <td>7</td>\n",
       "      <td>3</td>\n",
       "      <td>BTS_3_2</td>\n",
       "      <td>-8.05532</td>\n",
       "      <td>-34.957900</td>\n",
       "      <td>881</td>\n",
       "      <td>120</td>\n",
       "      <td>rssi_3_2</td>\n",
       "      <td>55.59</td>\n",
       "    </tr>\n",
       "    <tr>\n",
       "      <td>8</td>\n",
       "      <td>3</td>\n",
       "      <td>BTS_3_3</td>\n",
       "      <td>-8.05532</td>\n",
       "      <td>-34.957900</td>\n",
       "      <td>869</td>\n",
       "      <td>240</td>\n",
       "      <td>rssi_3_3</td>\n",
       "      <td>55.59</td>\n",
       "    </tr>\n",
       "  </tbody>\n",
       "</table>\n",
       "</div>"
      ],
      "text/plain": [
       "   grupo    btsId      lat        lon  cch  azimuth    RssiId   Eirp\n",
       "0      1  BTS_1_1 -8.04342 -34.952000  873        0  rssi_1_1  55.59\n",
       "1      1  BTS_1_2 -8.04342 -34.952000  872      120  rssi_1_2  55.59\n",
       "2      1  BTS_1_3 -8.04342 -34.952000  875      240  rssi_1_3  55.59\n",
       "3      2  BTS_2_1 -8.05289 -34.944672  865        0  rssi_2_1  55.59\n",
       "4      2  BTS_2_2 -8.05289 -34.944672  874      120  rssi_2_2  55.59\n",
       "5      2  BTS_2_3 -8.05289 -34.944672  871      240  rssi_2_3  55.59\n",
       "6      3  BTS_3_1 -8.05532 -34.957900  877        0  rssi_3_1  55.59\n",
       "7      3  BTS_3_2 -8.05532 -34.957900  881      120  rssi_3_2  55.59\n",
       "8      3  BTS_3_3 -8.05532 -34.957900  869      240  rssi_3_3  55.59"
      ]
     },
     "execution_count": 4,
     "metadata": {},
     "output_type": "execute_result"
    }
   ],
   "source": [
    "ds2 = pd.read_csv(\"Bts.csv\")\n",
    "ds2"
   ]
  },
  {
   "cell_type": "code",
   "execution_count": 5,
   "metadata": {},
   "outputs": [],
   "source": [
    "ds = ds.drop(columns=['pontoId'])"
   ]
  },
  {
   "cell_type": "code",
   "execution_count": 6,
   "metadata": {},
   "outputs": [
    {
     "data": {
      "text/html": [
       "<div>\n",
       "<style scoped>\n",
       "    .dataframe tbody tr th:only-of-type {\n",
       "        vertical-align: middle;\n",
       "    }\n",
       "\n",
       "    .dataframe tbody tr th {\n",
       "        vertical-align: top;\n",
       "    }\n",
       "\n",
       "    .dataframe thead th {\n",
       "        text-align: right;\n",
       "    }\n",
       "</style>\n",
       "<table border=\"1\" class=\"dataframe\">\n",
       "  <thead>\n",
       "    <tr style=\"text-align: right;\">\n",
       "      <th></th>\n",
       "      <th>RSSI_1_1</th>\n",
       "      <th>RSSI_1_2</th>\n",
       "      <th>RSSI_1_3</th>\n",
       "      <th>RSSI_2_1</th>\n",
       "      <th>RSSI_2_2</th>\n",
       "      <th>RSSI_2_3</th>\n",
       "      <th>RSSI_3_1</th>\n",
       "      <th>RSSI_3_2</th>\n",
       "      <th>RSSI_3_3</th>\n",
       "      <th>DELAY_1</th>\n",
       "      <th>DELAY_2</th>\n",
       "      <th>DELAY_3</th>\n",
       "    </tr>\n",
       "  </thead>\n",
       "  <tbody>\n",
       "    <tr>\n",
       "      <td>0</td>\n",
       "      <td>-150</td>\n",
       "      <td>-150</td>\n",
       "      <td>-150</td>\n",
       "      <td>-150</td>\n",
       "      <td>-150</td>\n",
       "      <td>-150</td>\n",
       "      <td>-150</td>\n",
       "      <td>-150</td>\n",
       "      <td>-150</td>\n",
       "      <td>0</td>\n",
       "      <td>0</td>\n",
       "      <td>0</td>\n",
       "    </tr>\n",
       "    <tr>\n",
       "      <td>1</td>\n",
       "      <td>0</td>\n",
       "      <td>0</td>\n",
       "      <td>0</td>\n",
       "      <td>0</td>\n",
       "      <td>0</td>\n",
       "      <td>0</td>\n",
       "      <td>0</td>\n",
       "      <td>0</td>\n",
       "      <td>0</td>\n",
       "      <td>8</td>\n",
       "      <td>8</td>\n",
       "      <td>8</td>\n",
       "    </tr>\n",
       "  </tbody>\n",
       "</table>\n",
       "</div>"
      ],
      "text/plain": [
       "   RSSI_1_1  RSSI_1_2  RSSI_1_3  RSSI_2_1  RSSI_2_2  RSSI_2_3  RSSI_3_1  \\\n",
       "0      -150      -150      -150      -150      -150      -150      -150   \n",
       "1         0         0         0         0         0         0         0   \n",
       "\n",
       "   RSSI_3_2  RSSI_3_3  DELAY_1  DELAY_2  DELAY_3  \n",
       "0      -150      -150        0        0        0  \n",
       "1         0         0        8        8        8  "
      ]
     },
     "execution_count": 6,
     "metadata": {},
     "output_type": "execute_result"
    }
   ],
   "source": [
    "rssi_fitter = pd.DataFrame(data={'RSSI_1_1': [-150, 0], 'RSSI_1_2': [-150, 0], 'RSSI_1_3': [-150, 0], 'RSSI_2_1': [-150, 0], 'RSSI_2_2': [-150, 0], 'RSSI_2_3': [-150, 0], 'RSSI_3_1': [-150, 0], 'RSSI_3_2': [-150, 0], 'RSSI_3_3': [-150, 0], 'DELAY_1': [0, 8], 'DELAY_2': [0, 8], 'DELAY_3': [0, 8]})\n",
    "rssi_fitter"
   ]
  },
  {
   "cell_type": "code",
   "execution_count": 7,
   "metadata": {},
   "outputs": [],
   "source": [
    "MIN_LAT = min(list(ds['lat']))\n",
    "MAX_LAT = max(list(ds['lat']))\n",
    "MIN_LON = min(list(ds['lon']))\n",
    "MAX_LON = max(list(ds['lon']))"
   ]
  },
  {
   "cell_type": "code",
   "execution_count": 8,
   "metadata": {},
   "outputs": [
    {
     "data": {
      "text/html": [
       "<div>\n",
       "<style scoped>\n",
       "    .dataframe tbody tr th:only-of-type {\n",
       "        vertical-align: middle;\n",
       "    }\n",
       "\n",
       "    .dataframe tbody tr th {\n",
       "        vertical-align: top;\n",
       "    }\n",
       "\n",
       "    .dataframe thead th {\n",
       "        text-align: right;\n",
       "    }\n",
       "</style>\n",
       "<table border=\"1\" class=\"dataframe\">\n",
       "  <thead>\n",
       "    <tr style=\"text-align: right;\">\n",
       "      <th></th>\n",
       "      <th>lat</th>\n",
       "      <th>lon</th>\n",
       "    </tr>\n",
       "  </thead>\n",
       "  <tbody>\n",
       "    <tr>\n",
       "      <td>0</td>\n",
       "      <td>-8.05955</td>\n",
       "      <td>-34.95985</td>\n",
       "    </tr>\n",
       "    <tr>\n",
       "      <td>1</td>\n",
       "      <td>-8.04642</td>\n",
       "      <td>-34.94511</td>\n",
       "    </tr>\n",
       "  </tbody>\n",
       "</table>\n",
       "</div>"
      ],
      "text/plain": [
       "       lat       lon\n",
       "0 -8.05955 -34.95985\n",
       "1 -8.04642 -34.94511"
      ]
     },
     "execution_count": 8,
     "metadata": {},
     "output_type": "execute_result"
    }
   ],
   "source": [
    "lat_lon_fitter = pd.DataFrame(data={'lat': [MIN_LAT, MAX_LAT], 'lon': [MIN_LON, MAX_LON]})\n",
    "lat_lon_fitter"
   ]
  },
  {
   "cell_type": "code",
   "execution_count": 9,
   "metadata": {},
   "outputs": [],
   "source": [
    "from sklearn.preprocessing import MinMaxScaler"
   ]
  },
  {
   "cell_type": "code",
   "execution_count": 10,
   "metadata": {},
   "outputs": [
    {
     "data": {
      "text/plain": [
       "MinMaxScaler(copy=True, feature_range=(0, 1))"
      ]
     },
     "execution_count": 10,
     "metadata": {},
     "output_type": "execute_result"
    }
   ],
   "source": [
    "scaler1 = MinMaxScaler()\n",
    "scaler1.fit(rssi_fitter)"
   ]
  },
  {
   "cell_type": "code",
   "execution_count": 11,
   "metadata": {},
   "outputs": [
    {
     "data": {
      "text/plain": [
       "MinMaxScaler(copy=True, feature_range=(0, 1))"
      ]
     },
     "execution_count": 11,
     "metadata": {},
     "output_type": "execute_result"
    }
   ],
   "source": [
    "scaler2 = MinMaxScaler()\n",
    "scaler2.fit(lat_lon_fitter)"
   ]
  },
  {
   "cell_type": "code",
   "execution_count": 12,
   "metadata": {},
   "outputs": [
    {
     "name": "stdout",
     "output_type": "stream",
     "text": [
      "rssi_1_1 max -> -61.38\n",
      "rssi_1_1 min -> -110.21\n",
      "rssi_1_2 max -> -64.82\n",
      "rssi_1_2 min -> -105.43\n",
      "rssi_1_3 max -> -60.64\n",
      "rssi_1_3 min -> -105.69\n",
      "rssi_2_1 max -> -36.96\n",
      "rssi_2_1 min -> -107.01\n",
      "rssi_2_2 max -> -59.17\n",
      "rssi_2_2 min -> -103.85\n",
      "rssi_2_3 max -> -58.86\n",
      "rssi_2_3 min -> -104.54\n",
      "rssi_3_1 max -> -56.06\n",
      "rssi_3_1 min -> -109.65\n",
      "rssi_3_2 max -> -55.87\n",
      "rssi_3_2 min -> -115.63\n",
      "rssi_3_3 max -> -50.1\n",
      "rssi_3_3 min -> -105.13\n"
     ]
    }
   ],
   "source": [
    "for col in ds:\n",
    "    if \"rssi\" in col:\n",
    "        print(\"{} max -> {}\".format(col, max(list(ds[col]))))\n",
    "        print(\"{} min -> {}\".format(col, min(list(ds[col]))))"
   ]
  },
  {
   "cell_type": "code",
   "execution_count": 13,
   "metadata": {},
   "outputs": [
    {
     "name": "stdout",
     "output_type": "stream",
     "text": [
      "delay_1 max -> 8\n",
      "delay_1 min -> 1\n",
      "delay_2 max -> 7\n",
      "delay_2 min -> 1\n",
      "delay_3 max -> 7\n",
      "delay_3 min -> 0\n"
     ]
    }
   ],
   "source": [
    "for col in ds:\n",
    "    if \"delay\" in col:\n",
    "        print(\"{} max -> {}\".format(col, max(list(ds[col]))))\n",
    "        print(\"{} min -> {}\".format(col, min(list(ds[col]))))"
   ]
  },
  {
   "cell_type": "code",
   "execution_count": 14,
   "metadata": {},
   "outputs": [],
   "source": [
    "x = ds.iloc[:,2:].values\n",
    "y = ds.iloc[:,0:2].values\n",
    "\n",
    "x_train = x[:1250]\n",
    "y_train = y[:1250]\n",
    "x_test = x[1250:]\n",
    "y_test = y[1250:]"
   ]
  },
  {
   "cell_type": "code",
   "execution_count": 15,
   "metadata": {},
   "outputs": [],
   "source": [
    "x_train = scaler1.transform(x_train)\n",
    "x_test = scaler1.transform(x_test)\n",
    "y_train = scaler2.transform(y_train)"
   ]
  },
  {
   "cell_type": "code",
   "execution_count": 16,
   "metadata": {},
   "outputs": [],
   "source": [
    "from sklearn.neighbors import KNeighborsRegressor"
   ]
  },
  {
   "cell_type": "code",
   "execution_count": 17,
   "metadata": {},
   "outputs": [],
   "source": [
    "regrss = KNeighborsRegressor()"
   ]
  },
  {
   "cell_type": "code",
   "execution_count": 18,
   "metadata": {},
   "outputs": [],
   "source": [
    "regrss.fit(x_train, y_train)\n",
    "y_pred = scaler2.inverse_transform(regrss.predict(x_test))"
   ]
  },
  {
   "cell_type": "code",
   "execution_count": 19,
   "metadata": {},
   "outputs": [
    {
     "data": {
      "text/plain": [
       "250"
      ]
     },
     "execution_count": 19,
     "metadata": {},
     "output_type": "execute_result"
    }
   ],
   "source": [
    "len(y_pred[:,0])"
   ]
  },
  {
   "cell_type": "code",
   "execution_count": 20,
   "metadata": {},
   "outputs": [],
   "source": [
    "df = pd.DataFrame({})\n",
    "df['p_lat'] = y_pred[:,0]\n",
    "df['p_lon'] = y_pred[:,1]\n",
    "df['o_lat'] = y_test[:,0]\n",
    "df['o_lon'] = y_test[:,1]"
   ]
  },
  {
   "cell_type": "code",
   "execution_count": 21,
   "metadata": {},
   "outputs": [
    {
     "data": {
      "text/html": [
       "<div>\n",
       "<style scoped>\n",
       "    .dataframe tbody tr th:only-of-type {\n",
       "        vertical-align: middle;\n",
       "    }\n",
       "\n",
       "    .dataframe tbody tr th {\n",
       "        vertical-align: top;\n",
       "    }\n",
       "\n",
       "    .dataframe thead th {\n",
       "        text-align: right;\n",
       "    }\n",
       "</style>\n",
       "<table border=\"1\" class=\"dataframe\">\n",
       "  <thead>\n",
       "    <tr style=\"text-align: right;\">\n",
       "      <th></th>\n",
       "      <th>p_lat</th>\n",
       "      <th>p_lon</th>\n",
       "      <th>o_lat</th>\n",
       "      <th>o_lon</th>\n",
       "    </tr>\n",
       "  </thead>\n",
       "  <tbody>\n",
       "    <tr>\n",
       "      <td>0</td>\n",
       "      <td>-8.050962</td>\n",
       "      <td>-34.950520</td>\n",
       "      <td>-8.05077</td>\n",
       "      <td>-34.95054</td>\n",
       "    </tr>\n",
       "    <tr>\n",
       "      <td>1</td>\n",
       "      <td>-8.046748</td>\n",
       "      <td>-34.945150</td>\n",
       "      <td>-8.04675</td>\n",
       "      <td>-34.94515</td>\n",
       "    </tr>\n",
       "    <tr>\n",
       "      <td>2</td>\n",
       "      <td>-8.053110</td>\n",
       "      <td>-34.959722</td>\n",
       "      <td>-8.05330</td>\n",
       "      <td>-34.95973</td>\n",
       "    </tr>\n",
       "    <tr>\n",
       "      <td>3</td>\n",
       "      <td>-8.049540</td>\n",
       "      <td>-34.954684</td>\n",
       "      <td>-8.04936</td>\n",
       "      <td>-34.95571</td>\n",
       "    </tr>\n",
       "    <tr>\n",
       "      <td>4</td>\n",
       "      <td>-8.055310</td>\n",
       "      <td>-34.951258</td>\n",
       "      <td>-8.05525</td>\n",
       "      <td>-34.95163</td>\n",
       "    </tr>\n",
       "    <tr>\n",
       "      <td>...</td>\n",
       "      <td>...</td>\n",
       "      <td>...</td>\n",
       "      <td>...</td>\n",
       "      <td>...</td>\n",
       "    </tr>\n",
       "    <tr>\n",
       "      <td>245</td>\n",
       "      <td>-8.047364</td>\n",
       "      <td>-34.947574</td>\n",
       "      <td>-8.04701</td>\n",
       "      <td>-34.94758</td>\n",
       "    </tr>\n",
       "    <tr>\n",
       "      <td>246</td>\n",
       "      <td>-8.051376</td>\n",
       "      <td>-34.950490</td>\n",
       "      <td>-8.05158</td>\n",
       "      <td>-34.94996</td>\n",
       "    </tr>\n",
       "    <tr>\n",
       "      <td>247</td>\n",
       "      <td>-8.052318</td>\n",
       "      <td>-34.948270</td>\n",
       "      <td>-8.05233</td>\n",
       "      <td>-34.94834</td>\n",
       "    </tr>\n",
       "    <tr>\n",
       "      <td>248</td>\n",
       "      <td>-8.055522</td>\n",
       "      <td>-34.953738</td>\n",
       "      <td>-8.05559</td>\n",
       "      <td>-34.95374</td>\n",
       "    </tr>\n",
       "    <tr>\n",
       "      <td>249</td>\n",
       "      <td>-8.053936</td>\n",
       "      <td>-34.959564</td>\n",
       "      <td>-8.05370</td>\n",
       "      <td>-34.95964</td>\n",
       "    </tr>\n",
       "  </tbody>\n",
       "</table>\n",
       "<p>250 rows × 4 columns</p>\n",
       "</div>"
      ],
      "text/plain": [
       "        p_lat      p_lon    o_lat     o_lon\n",
       "0   -8.050962 -34.950520 -8.05077 -34.95054\n",
       "1   -8.046748 -34.945150 -8.04675 -34.94515\n",
       "2   -8.053110 -34.959722 -8.05330 -34.95973\n",
       "3   -8.049540 -34.954684 -8.04936 -34.95571\n",
       "4   -8.055310 -34.951258 -8.05525 -34.95163\n",
       "..        ...        ...      ...       ...\n",
       "245 -8.047364 -34.947574 -8.04701 -34.94758\n",
       "246 -8.051376 -34.950490 -8.05158 -34.94996\n",
       "247 -8.052318 -34.948270 -8.05233 -34.94834\n",
       "248 -8.055522 -34.953738 -8.05559 -34.95374\n",
       "249 -8.053936 -34.959564 -8.05370 -34.95964\n",
       "\n",
       "[250 rows x 4 columns]"
      ]
     },
     "execution_count": 21,
     "metadata": {},
     "output_type": "execute_result"
    }
   ],
   "source": [
    "df"
   ]
  },
  {
   "cell_type": "code",
   "execution_count": 22,
   "metadata": {},
   "outputs": [],
   "source": [
    "df['dist'] = df.apply(lambda x: GeoUtils.distanceInKm(x.p_lat, x.p_lon, x.o_lat, x.o_lon), axis=1)"
   ]
  },
  {
   "cell_type": "code",
   "execution_count": 23,
   "metadata": {},
   "outputs": [
    {
     "name": "stdout",
     "output_type": "stream",
     "text": [
      "Max:  0.17663386178943105\n",
      "Min:  0.0002211920723921915\n",
      "Erro:  0.031644179378944225\n"
     ]
    }
   ],
   "source": [
    "erro = np.mean(df['dist'].values)\n",
    "\n",
    "print(\"Max: \", df['dist'].values.max())\n",
    "print(\"Min: \", df['dist'].values.min())\n",
    "print(\"Erro: \", erro)"
   ]
  },
  {
   "cell_type": "code",
   "execution_count": 24,
   "metadata": {},
   "outputs": [
    {
     "data": {
      "image/png": "[encoded data removed]",
      "text/plain": [
       "<Figure size 432x288 with 1 Axes>"
      ]
     },
     "metadata": {
      "needs_background": "light"
     },
     "output_type": "display_data"
    }
   ],
   "source": [
    "plt.scatter([0]*df.shape[0],df['dist'],s=1)\n",
    "cur_axes = plt.gca()\n",
    "cur_axes.axes.get_xaxis().set_visible(False)\n",
    "plt.show()"
   ]
  },
  {
   "cell_type": "code",
   "execution_count": 25,
   "metadata": {},
   "outputs": [
    {
     "data": {
      "text/html": [
       "<div>\n",
       "<style scoped>\n",
       "    .dataframe tbody tr th:only-of-type {\n",
       "        vertical-align: middle;\n",
       "    }\n",
       "\n",
       "    .dataframe tbody tr th {\n",
       "        vertical-align: top;\n",
       "    }\n",
       "\n",
       "    .dataframe thead th {\n",
       "        text-align: right;\n",
       "    }\n",
       "</style>\n",
       "<table border=\"1\" class=\"dataframe\">\n",
       "  <thead>\n",
       "    <tr style=\"text-align: right;\">\n",
       "      <th></th>\n",
       "      <th>p_lat</th>\n",
       "      <th>p_lon</th>\n",
       "      <th>o_lat</th>\n",
       "      <th>o_lon</th>\n",
       "      <th>dist</th>\n",
       "    </tr>\n",
       "  </thead>\n",
       "  <tbody>\n",
       "    <tr>\n",
       "      <td>0</td>\n",
       "      <td>-8.050962</td>\n",
       "      <td>-34.950520</td>\n",
       "      <td>-8.05077</td>\n",
       "      <td>-34.95054</td>\n",
       "      <td>0.021349</td>\n",
       "    </tr>\n",
       "    <tr>\n",
       "      <td>1</td>\n",
       "      <td>-8.046748</td>\n",
       "      <td>-34.945150</td>\n",
       "      <td>-8.04675</td>\n",
       "      <td>-34.94515</td>\n",
       "      <td>0.000221</td>\n",
       "    </tr>\n",
       "    <tr>\n",
       "      <td>2</td>\n",
       "      <td>-8.053110</td>\n",
       "      <td>-34.959722</td>\n",
       "      <td>-8.05330</td>\n",
       "      <td>-34.95973</td>\n",
       "      <td>0.021032</td>\n",
       "    </tr>\n",
       "    <tr>\n",
       "      <td>3</td>\n",
       "      <td>-8.049540</td>\n",
       "      <td>-34.954684</td>\n",
       "      <td>-8.04936</td>\n",
       "      <td>-34.95571</td>\n",
       "      <td>0.114835</td>\n",
       "    </tr>\n",
       "    <tr>\n",
       "      <td>4</td>\n",
       "      <td>-8.055310</td>\n",
       "      <td>-34.951258</td>\n",
       "      <td>-8.05525</td>\n",
       "      <td>-34.95163</td>\n",
       "      <td>0.041538</td>\n",
       "    </tr>\n",
       "    <tr>\n",
       "      <td>...</td>\n",
       "      <td>...</td>\n",
       "      <td>...</td>\n",
       "      <td>...</td>\n",
       "      <td>...</td>\n",
       "      <td>...</td>\n",
       "    </tr>\n",
       "    <tr>\n",
       "      <td>245</td>\n",
       "      <td>-8.047364</td>\n",
       "      <td>-34.947574</td>\n",
       "      <td>-8.04701</td>\n",
       "      <td>-34.94758</td>\n",
       "      <td>0.039157</td>\n",
       "    </tr>\n",
       "    <tr>\n",
       "      <td>246</td>\n",
       "      <td>-8.051376</td>\n",
       "      <td>-34.950490</td>\n",
       "      <td>-8.05158</td>\n",
       "      <td>-34.94996</td>\n",
       "      <td>0.062627</td>\n",
       "    </tr>\n",
       "    <tr>\n",
       "      <td>247</td>\n",
       "      <td>-8.052318</td>\n",
       "      <td>-34.948270</td>\n",
       "      <td>-8.05233</td>\n",
       "      <td>-34.94834</td>\n",
       "      <td>0.007829</td>\n",
       "    </tr>\n",
       "    <tr>\n",
       "      <td>248</td>\n",
       "      <td>-8.055522</td>\n",
       "      <td>-34.953738</td>\n",
       "      <td>-8.05559</td>\n",
       "      <td>-34.95374</td>\n",
       "      <td>0.007524</td>\n",
       "    </tr>\n",
       "    <tr>\n",
       "      <td>249</td>\n",
       "      <td>-8.053936</td>\n",
       "      <td>-34.959564</td>\n",
       "      <td>-8.05370</td>\n",
       "      <td>-34.95964</td>\n",
       "      <td>0.027412</td>\n",
       "    </tr>\n",
       "  </tbody>\n",
       "</table>\n",
       "<p>250 rows × 5 columns</p>\n",
       "</div>"
      ],
      "text/plain": [
       "        p_lat      p_lon    o_lat     o_lon      dist\n",
       "0   -8.050962 -34.950520 -8.05077 -34.95054  0.021349\n",
       "1   -8.046748 -34.945150 -8.04675 -34.94515  0.000221\n",
       "2   -8.053110 -34.959722 -8.05330 -34.95973  0.021032\n",
       "3   -8.049540 -34.954684 -8.04936 -34.95571  0.114835\n",
       "4   -8.055310 -34.951258 -8.05525 -34.95163  0.041538\n",
       "..        ...        ...      ...       ...       ...\n",
       "245 -8.047364 -34.947574 -8.04701 -34.94758  0.039157\n",
       "246 -8.051376 -34.950490 -8.05158 -34.94996  0.062627\n",
       "247 -8.052318 -34.948270 -8.05233 -34.94834  0.007829\n",
       "248 -8.055522 -34.953738 -8.05559 -34.95374  0.007524\n",
       "249 -8.053936 -34.959564 -8.05370 -34.95964  0.027412\n",
       "\n",
       "[250 rows x 5 columns]"
      ]
     },
     "execution_count": 25,
     "metadata": {},
     "output_type": "execute_result"
    }
   ],
   "source": [
    "df"
   ]
  },
  {
   "cell_type": "code",
   "execution_count": 31,
   "metadata": {},
   "outputs": [],
   "source": [
    "positions = df[['o_lat', 'o_lon']].values\n",
    "predictions = df[['p_lat', 'p_lon']].values"
   ]
  },
  {
   "cell_type": "code",
   "execution_count": 47,
   "metadata": {},
   "outputs": [],
   "source": [
    "center_lat = np.mean([lat for lat in ds2['lat'].values])\n",
    "center_lon = np.mean([lon for lon in ds2['lon'].values])\n",
    "original_pts_map = folium.Map(location=[center_lat, center_lon],\n",
    "                              zoom_start=15,\n",
    "                              tiles='CartoDB positron')"
   ]
  },
  {
   "cell_type": "code",
   "execution_count": 48,
   "metadata": {},
   "outputs": [],
   "source": [
    "for location in positions:\n",
    "    marker = folium.CircleMarker(location=location,\n",
    "                                 radius=0.5,\n",
    "                                 color='blue',\n",
    "                                 fill_opacity=0.1)\n",
    "    marker.add_to(original_pts_map)\n",
    "\n",
    "# Plot BTSs locations\n",
    "for location in ds2[['lat', 'lon']].values:\n",
    "    marker = folium.Marker(location=location, color='darkred')\n",
    "    marker.add_to(original_pts_map)\n",
    "\n",
    "# Export map\n",
    "original_pts_map.save(\"original_pts2.html\")"
   ]
  },
  {
   "cell_type": "code",
   "execution_count": 49,
   "metadata": {},
   "outputs": [],
   "source": [
    "center_lat = np.mean([lat for lat in ds2['lat'].values])\n",
    "center_lon = np.mean([lon for lon in ds2['lon'].values])\n",
    "original_pts_map = folium.Map(location=[center_lat, center_lon],\n",
    "                              zoom_start=15,\n",
    "                              tiles='CartoDB positron')"
   ]
  },
  {
   "cell_type": "code",
   "execution_count": 50,
   "metadata": {},
   "outputs": [],
   "source": [
    "for location in positions:\n",
    "    marker = folium.CircleMarker(location=location,\n",
    "                                 radius=0.5,\n",
    "                                 color='blue',\n",
    "                                 fill_opacity=0.1)\n",
    "    marker.add_to(original_pts_map)\n",
    "\n",
    "for location in predictions:\n",
    "    marker = folium.CircleMarker(location=location,\n",
    "                                 radius=0.5,\n",
    "                                 color='red',\n",
    "                                 fill_opacity=0.3)\n",
    "    marker.add_to(original_pts_map)\n",
    "\n",
    "# Plot BTSs locations\n",
    "for location in ds2[['lat', 'lon']].values:\n",
    "    marker = folium.Marker(location=location, color='darkred')\n",
    "    marker.add_to(original_pts_map)\n",
    "\n",
    "# Export map\n",
    "original_pts_map.save(\"predictions_pts2.html\")"
   ]
  },
  {
   "cell_type": "markdown",
   "metadata": {},
   "source": [
    "## Random Forest"
   ]
  },
  {
   "cell_type": "code",
   "execution_count": 59,
   "metadata": {},
   "outputs": [],
   "source": [
    "from sklearn.ensemble import RandomForestRegressor"
   ]
  },
  {
   "cell_type": "code",
   "execution_count": 60,
   "metadata": {},
   "outputs": [],
   "source": [
    "regrss = RandomForestRegressor()"
   ]
  },
  {
   "cell_type": "code",
   "execution_count": 61,
   "metadata": {},
   "outputs": [
    {
     "name": "stderr",
     "output_type": "stream",
     "text": [
      "C:\\ProgramData\\Anaconda3\\lib\\site-packages\\sklearn\\ensemble\\forest.py:245: FutureWarning: The default value of n_estimators will change from 10 in version 0.20 to 100 in 0.22.\n",
      "  \"10 in version 0.20 to 100 in 0.22.\", FutureWarning)\n"
     ]
    }
   ],
   "source": [
    "regrss.fit(x_train, y_train)\n",
    "y_pred2 = scaler2.inverse_transform(regrss.predict(x_test))"
   ]
  },
  {
   "cell_type": "code",
   "execution_count": 62,
   "metadata": {},
   "outputs": [],
   "source": [
    "df2 = pd.DataFrame({})\n",
    "df2['p_lat'] = y_pred2[:,0]\n",
    "df2['p_lon'] = y_pred2[:,1]\n",
    "df2['o_lat'] = y_test[:,0]\n",
    "df2['o_lon'] = y_test[:,1]"
   ]
  },
  {
   "cell_type": "code",
   "execution_count": 63,
   "metadata": {},
   "outputs": [],
   "source": [
    "df2['dist'] = df2.apply(lambda x: GeoUtils.distanceInKm(x.p_lat, x.p_lon, x.o_lat, x.o_lon), axis=1)"
   ]
  },
  {
   "cell_type": "code",
   "execution_count": null,
   "metadata": {},
   "outputs": [],
   "source": [
    "ds2"
   ]
  },
  {
   "cell_type": "code",
   "execution_count": 64,
   "metadata": {},
   "outputs": [
    {
     "name": "stdout",
     "output_type": "stream",
     "text": [
      "Max:  0.22059940430154437\n",
      "Min:  0.0006665535821524397\n",
      "Erro:  0.027314665561102316\n"
     ]
    }
   ],
   "source": [
    "erro = np.mean(df2['dist'].values)\n",
    "\n",
    "print(\"Max: \", df2['dist'].values.max())\n",
    "print(\"Min: \", df2['dist'].values.min())\n",
    "print(\"Erro: \", erro)"
   ]
  },
  {
   "cell_type": "code",
   "execution_count": 65,
   "metadata": {},
   "outputs": [
    {
     "data": {
      "image/png": "[encoded data removed]",
      "text/plain": [
       "<Figure size 432x288 with 1 Axes>"
      ]
     },
     "metadata": {
      "needs_background": "light"
     },
     "output_type": "display_data"
    }
   ],
   "source": [
    "plt.scatter([0]*df2.shape[0],df2['dist'],s=1)\n",
    "cur_axes = plt.gca()\n",
    "cur_axes.axes.get_xaxis().set_visible(False)\n",
    "plt.show()"
   ]
  },
  {
   "cell_type": "code",
   "execution_count": 67,
   "metadata": {},
   "outputs": [],
   "source": [
    "positions2 = df2[['o_lat', 'o_lon']].values\n",
    "predictions2 = df2[['p_lat', 'p_lon']].values"
   ]
  },
  {
   "cell_type": "code",
   "execution_count": 68,
   "metadata": {},
   "outputs": [],
   "source": [
    "center_lat = np.mean([lat for lat in ds2['lat'].values])\n",
    "center_lon = np.mean([lon for lon in ds2['lon'].values])\n",
    "original_pts_map = folium.Map(location=[center_lat, center_lon],\n",
    "                              zoom_start=15,\n",
    "                              tiles='CartoDB positron')"
   ]
  },
  {
   "cell_type": "code",
   "execution_count": 69,
   "metadata": {},
   "outputs": [],
   "source": [
    "for location in positions2:\n",
    "    marker = folium.CircleMarker(location=location,\n",
    "                                 radius=0.5,\n",
    "                                 color='blue',\n",
    "                                 fill_opacity=0.1)\n",
    "    marker.add_to(original_pts_map)\n",
    "\n",
    "for location in predictions2:\n",
    "    marker = folium.CircleMarker(location=location,\n",
    "                                 radius=0.5,\n",
    "                                 color='green',\n",
    "                                 fill_opacity=0.3)\n",
    "    marker.add_to(original_pts_map)\n",
    "\n",
    "# Plot BTSs locations\n",
    "for location in ds2[['lat', 'lon']].values:\n",
    "    marker = folium.Marker(location=location, color='darkred')\n",
    "    marker.add_to(original_pts_map)\n",
    "\n",
    "# Export map\n",
    "original_pts_map.save(\"predictions_pts2_randomforest.html\")"
   ]
  },
  {
   "cell_type": "markdown",
   "metadata": {},
   "source": [
    "### MLP"
   ]
  },
  {
   "cell_type": "code",
   "execution_count": 70,
   "metadata": {},
   "outputs": [],
   "source": [
    "from sklearn.neural_network import MLPRegressor"
   ]
  },
  {
   "cell_type": "code",
   "execution_count": 71,
   "metadata": {},
   "outputs": [],
   "source": [
    "regrss = MLPRegressor()"
   ]
  },
  {
   "cell_type": "code",
   "execution_count": 72,
   "metadata": {},
   "outputs": [],
   "source": [
    "regrss.fit(x_train, y_train)\n",
    "y_pred3 = scaler2.inverse_transform(regrss.predict(x_test))"
   ]
  },
  {
   "cell_type": "code",
   "execution_count": 73,
   "metadata": {},
   "outputs": [],
   "source": [
    "df3 = pd.DataFrame({})\n",
    "df3['p_lat'] = y_pred3[:,0]\n",
    "df3['p_lon'] = y_pred3[:,1]\n",
    "df3['o_lat'] = y_test[:,0]\n",
    "df3['o_lon'] = y_test[:,1]"
   ]
  },
  {
   "cell_type": "code",
   "execution_count": 74,
   "metadata": {},
   "outputs": [],
   "source": [
    "df3['dist'] = df3.apply(lambda x: GeoUtils.distanceInKm(x.p_lat, x.p_lon, x.o_lat, x.o_lon), axis=1)"
   ]
  },
  {
   "cell_type": "code",
   "execution_count": 81,
   "metadata": {},
   "outputs": [
    {
     "data": {
      "text/html": [
       "<div>\n",
       "<style scoped>\n",
       "    .dataframe tbody tr th:only-of-type {\n",
       "        vertical-align: middle;\n",
       "    }\n",
       "\n",
       "    .dataframe tbody tr th {\n",
       "        vertical-align: top;\n",
       "    }\n",
       "\n",
       "    .dataframe thead th {\n",
       "        text-align: right;\n",
       "    }\n",
       "</style>\n",
       "<table border=\"1\" class=\"dataframe\">\n",
       "  <thead>\n",
       "    <tr style=\"text-align: right;\">\n",
       "      <th></th>\n",
       "      <th>p_lat</th>\n",
       "      <th>p_lon</th>\n",
       "      <th>o_lat</th>\n",
       "      <th>o_lon</th>\n",
       "      <th>dist</th>\n",
       "    </tr>\n",
       "  </thead>\n",
       "  <tbody>\n",
       "    <tr>\n",
       "      <td>0</td>\n",
       "      <td>-8.051790</td>\n",
       "      <td>-34.950418</td>\n",
       "      <td>-8.05077</td>\n",
       "      <td>-34.95054</td>\n",
       "      <td>0.113557</td>\n",
       "    </tr>\n",
       "    <tr>\n",
       "      <td>1</td>\n",
       "      <td>-8.049720</td>\n",
       "      <td>-34.946299</td>\n",
       "      <td>-8.04675</td>\n",
       "      <td>-34.94515</td>\n",
       "      <td>0.352002</td>\n",
       "    </tr>\n",
       "    <tr>\n",
       "      <td>2</td>\n",
       "      <td>-8.053873</td>\n",
       "      <td>-34.959376</td>\n",
       "      <td>-8.05330</td>\n",
       "      <td>-34.95973</td>\n",
       "      <td>0.074432</td>\n",
       "    </tr>\n",
       "    <tr>\n",
       "      <td>3</td>\n",
       "      <td>-8.049200</td>\n",
       "      <td>-34.955258</td>\n",
       "      <td>-8.04936</td>\n",
       "      <td>-34.95571</td>\n",
       "      <td>0.052866</td>\n",
       "    </tr>\n",
       "    <tr>\n",
       "      <td>4</td>\n",
       "      <td>-8.055679</td>\n",
       "      <td>-34.950652</td>\n",
       "      <td>-8.05525</td>\n",
       "      <td>-34.95163</td>\n",
       "      <td>0.117815</td>\n",
       "    </tr>\n",
       "    <tr>\n",
       "      <td>...</td>\n",
       "      <td>...</td>\n",
       "      <td>...</td>\n",
       "      <td>...</td>\n",
       "      <td>...</td>\n",
       "      <td>...</td>\n",
       "    </tr>\n",
       "    <tr>\n",
       "      <td>245</td>\n",
       "      <td>-8.048603</td>\n",
       "      <td>-34.948831</td>\n",
       "      <td>-8.04701</td>\n",
       "      <td>-34.94758</td>\n",
       "      <td>0.223750</td>\n",
       "    </tr>\n",
       "    <tr>\n",
       "      <td>246</td>\n",
       "      <td>-8.052433</td>\n",
       "      <td>-34.950174</td>\n",
       "      <td>-8.05158</td>\n",
       "      <td>-34.94996</td>\n",
       "      <td>0.097262</td>\n",
       "    </tr>\n",
       "    <tr>\n",
       "      <td>247</td>\n",
       "      <td>-8.052685</td>\n",
       "      <td>-34.947325</td>\n",
       "      <td>-8.05233</td>\n",
       "      <td>-34.94834</td>\n",
       "      <td>0.118586</td>\n",
       "    </tr>\n",
       "    <tr>\n",
       "      <td>248</td>\n",
       "      <td>-8.055348</td>\n",
       "      <td>-34.954037</td>\n",
       "      <td>-8.05559</td>\n",
       "      <td>-34.95374</td>\n",
       "      <td>0.042299</td>\n",
       "    </tr>\n",
       "    <tr>\n",
       "      <td>249</td>\n",
       "      <td>-8.053248</td>\n",
       "      <td>-34.959724</td>\n",
       "      <td>-8.05370</td>\n",
       "      <td>-34.95964</td>\n",
       "      <td>0.050804</td>\n",
       "    </tr>\n",
       "  </tbody>\n",
       "</table>\n",
       "<p>250 rows × 5 columns</p>\n",
       "</div>"
      ],
      "text/plain": [
       "        p_lat      p_lon    o_lat     o_lon      dist\n",
       "0   -8.051790 -34.950418 -8.05077 -34.95054  0.113557\n",
       "1   -8.049720 -34.946299 -8.04675 -34.94515  0.352002\n",
       "2   -8.053873 -34.959376 -8.05330 -34.95973  0.074432\n",
       "3   -8.049200 -34.955258 -8.04936 -34.95571  0.052866\n",
       "4   -8.055679 -34.950652 -8.05525 -34.95163  0.117815\n",
       "..        ...        ...      ...       ...       ...\n",
       "245 -8.048603 -34.948831 -8.04701 -34.94758  0.223750\n",
       "246 -8.052433 -34.950174 -8.05158 -34.94996  0.097262\n",
       "247 -8.052685 -34.947325 -8.05233 -34.94834  0.118586\n",
       "248 -8.055348 -34.954037 -8.05559 -34.95374  0.042299\n",
       "249 -8.053248 -34.959724 -8.05370 -34.95964  0.050804\n",
       "\n",
       "[250 rows x 5 columns]"
      ]
     },
     "execution_count": 81,
     "metadata": {},
     "output_type": "execute_result"
    }
   ],
   "source": [
    "df3"
   ]
  },
  {
   "cell_type": "code",
   "execution_count": 75,
   "metadata": {},
   "outputs": [
    {
     "name": "stdout",
     "output_type": "stream",
     "text": [
      "Max:  0.3772112579413198\n",
      "Min:  0.004815429204582123\n",
      "Erro:  0.11517511077043212\n"
     ]
    }
   ],
   "source": [
    "erro = np.mean(df3['dist'].values)\n",
    "\n",
    "print(\"Max: \", df3['dist'].values.max())\n",
    "print(\"Min: \", df3['dist'].values.min())\n",
    "print(\"Erro: \", erro)"
   ]
  },
  {
   "cell_type": "code",
   "execution_count": 76,
   "metadata": {},
   "outputs": [
    {
     "data": {
      "image/png": "[encoded data removed]",
      "text/plain": [
       "<Figure size 432x288 with 1 Axes>"
      ]
     },
     "metadata": {
      "needs_background": "light"
     },
     "output_type": "display_data"
    }
   ],
   "source": [
    "plt.scatter([0]*df3.shape[0],df3['dist'],s=1)\n",
    "cur_axes = plt.gca()\n",
    "cur_axes.axes.get_xaxis().set_visible(False)\n",
    "plt.show()"
   ]
  },
  {
   "cell_type": "code",
   "execution_count": 77,
   "metadata": {},
   "outputs": [],
   "source": [
    "positions3 = df3[['o_lat', 'o_lon']].values\n",
    "predictions3 = df3[['p_lat', 'p_lon']].values"
   ]
  },
  {
   "cell_type": "code",
   "execution_count": 78,
   "metadata": {},
   "outputs": [],
   "source": [
    "center_lat = np.mean([lat for lat in ds2['lat'].values])\n",
    "center_lon = np.mean([lon for lon in ds2['lon'].values])\n",
    "original_pts_map = folium.Map(location=[center_lat, center_lon],\n",
    "                              zoom_start=15,\n",
    "                              tiles='CartoDB positron')"
   ]
  },
  {
   "cell_type": "code",
   "execution_count": 80,
   "metadata": {},
   "outputs": [],
   "source": [
    "for location in positions3:\n",
    "    marker = folium.CircleMarker(location=location,\n",
    "                                 radius=0.5,\n",
    "                                 color='blue',\n",
    "                                 fill_opacity=0.1)\n",
    "    marker.add_to(original_pts_map)\n",
    "\n",
    "for location in predictions3:\n",
    "    marker = folium.CircleMarker(location=location,\n",
    "                                 radius=0.5,\n",
    "                                 color='yellow',\n",
    "                                 fill_opacity=0.3)\n",
    "    marker.add_to(original_pts_map)\n",
    "\n",
    "# Plot BTSs locations\n",
    "for location in ds2[['lat', 'lon']].values:\n",
    "    marker = folium.Marker(location=location, color='darkred')\n",
    "    marker.add_to(original_pts_map)\n",
    "\n",
    "# Export map\n",
    "original_pts_map.save(\"predictions_pts2_mlp.html\")"
   ]
  },
  {
   "cell_type": "code",
   "execution_count": 82,
   "metadata": {},
   "outputs": [],
   "source": [
    "df.to_csv(\"knn_predicts.csv\", index=False, sep=',')"
   ]
  },
  {
   "cell_type": "code",
   "execution_count": 83,
   "metadata": {},
   "outputs": [],
   "source": [
    "df2.to_csv(\"randomforest_predicts.csv\", index=False, sep=',')"
   ]
  },
  {
   "cell_type": "code",
   "execution_count": 84,
   "metadata": {},
   "outputs": [],
   "source": [
    "df3.to_csv(\"mlp_predicts.csv\", index=False, sep=',')"
   ]
  }
 ],
 "metadata": {
  "kernelspec": {
   "display_name": "Python 3",
   "language": "python",
   "name": "python3"
  },
  "language_info": {
   "codemirror_mode": {
    "name": "ipython",
    "version": 3
   },
   "file_extension": ".py",
   "mimetype": "text/x-python",
   "name": "python",
   "nbconvert_exporter": "python",
   "pygments_lexer": "ipython3",
   "version": "3.7.4"
  }
 },
 "nbformat": 4,
 "nbformat_minor": 2
}
