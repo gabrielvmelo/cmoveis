{
 "cells": [
  {
   "cell_type": "code",
   "execution_count": 4,
   "metadata": {},
   "outputs": [
    {
     "ename": "ImportError",
     "evalue": "DLL load failed: Não foi possível encontrar o módulo especificado.",
     "output_type": "error",
     "traceback": [
      "\u001b[1;31m---------------------------------------------------------------------------\u001b[0m",
      "\u001b[1;31mImportError\u001b[0m                               Traceback (most recent call last)",
      "\u001b[1;32m<ipython-input-4-67aea6901904>\u001b[0m in \u001b[0;36m<module>\u001b[1;34m()\u001b[0m\n\u001b[0;32m      2\u001b[0m \u001b[1;32mimport\u001b[0m \u001b[0mnumpy\u001b[0m \u001b[1;32mas\u001b[0m \u001b[0mnp\u001b[0m\u001b[1;33m\u001b[0m\u001b[0m\n\u001b[0;32m      3\u001b[0m \u001b[1;32mimport\u001b[0m \u001b[0mmath\u001b[0m\u001b[1;33m\u001b[0m\u001b[0m\n\u001b[1;32m----> 4\u001b[1;33m \u001b[1;32mfrom\u001b[0m \u001b[0mosgeo\u001b[0m \u001b[1;32mimport\u001b[0m \u001b[0mogr\u001b[0m\u001b[1;33m\u001b[0m\u001b[0m\n\u001b[0m\u001b[0;32m      5\u001b[0m \u001b[1;32mfrom\u001b[0m \u001b[0mosgeo\u001b[0m \u001b[1;32mimport\u001b[0m \u001b[0mosr\u001b[0m\u001b[1;33m\u001b[0m\u001b[0m\n\u001b[0;32m      6\u001b[0m \u001b[1;33m\u001b[0m\u001b[0m\n",
      "\u001b[1;32mc:\\program files\\python36\\lib\\site-packages\\osgeo\\__init__.py\u001b[0m in \u001b[0;36m<module>\u001b[1;34m()\u001b[0m\n\u001b[0;32m     19\u001b[0m                 \u001b[0mfp\u001b[0m\u001b[1;33m.\u001b[0m\u001b[0mclose\u001b[0m\u001b[1;33m(\u001b[0m\u001b[1;33m)\u001b[0m\u001b[1;33m\u001b[0m\u001b[0m\n\u001b[0;32m     20\u001b[0m             \u001b[1;32mreturn\u001b[0m \u001b[0m_mod\u001b[0m\u001b[1;33m\u001b[0m\u001b[0m\n\u001b[1;32m---> 21\u001b[1;33m     \u001b[0m_gdal\u001b[0m \u001b[1;33m=\u001b[0m \u001b[0mswig_import_helper\u001b[0m\u001b[1;33m(\u001b[0m\u001b[1;33m)\u001b[0m\u001b[1;33m\u001b[0m\u001b[0m\n\u001b[0m\u001b[0;32m     22\u001b[0m     \u001b[1;32mdel\u001b[0m \u001b[0mswig_import_helper\u001b[0m\u001b[1;33m\u001b[0m\u001b[0m\n\u001b[0;32m     23\u001b[0m \u001b[1;32melse\u001b[0m\u001b[1;33m:\u001b[0m\u001b[1;33m\u001b[0m\u001b[0m\n",
      "\u001b[1;32mc:\\program files\\python36\\lib\\site-packages\\osgeo\\__init__.py\u001b[0m in \u001b[0;36mswig_import_helper\u001b[1;34m()\u001b[0m\n\u001b[0;32m     15\u001b[0m         \u001b[1;32mif\u001b[0m \u001b[0mfp\u001b[0m \u001b[1;32mis\u001b[0m \u001b[1;32mnot\u001b[0m \u001b[1;32mNone\u001b[0m\u001b[1;33m:\u001b[0m\u001b[1;33m\u001b[0m\u001b[0m\n\u001b[0;32m     16\u001b[0m             \u001b[1;32mtry\u001b[0m\u001b[1;33m:\u001b[0m\u001b[1;33m\u001b[0m\u001b[0m\n\u001b[1;32m---> 17\u001b[1;33m                 \u001b[0m_mod\u001b[0m \u001b[1;33m=\u001b[0m \u001b[0mimp\u001b[0m\u001b[1;33m.\u001b[0m\u001b[0mload_module\u001b[0m\u001b[1;33m(\u001b[0m\u001b[1;34m'_gdal'\u001b[0m\u001b[1;33m,\u001b[0m \u001b[0mfp\u001b[0m\u001b[1;33m,\u001b[0m \u001b[0mpathname\u001b[0m\u001b[1;33m,\u001b[0m \u001b[0mdescription\u001b[0m\u001b[1;33m)\u001b[0m\u001b[1;33m\u001b[0m\u001b[0m\n\u001b[0m\u001b[0;32m     18\u001b[0m             \u001b[1;32mfinally\u001b[0m\u001b[1;33m:\u001b[0m\u001b[1;33m\u001b[0m\u001b[0m\n\u001b[0;32m     19\u001b[0m                 \u001b[0mfp\u001b[0m\u001b[1;33m.\u001b[0m\u001b[0mclose\u001b[0m\u001b[1;33m(\u001b[0m\u001b[1;33m)\u001b[0m\u001b[1;33m\u001b[0m\u001b[0m\n",
      "\u001b[1;32mc:\\program files\\python36\\lib\\imp.py\u001b[0m in \u001b[0;36mload_module\u001b[1;34m(name, file, filename, details)\u001b[0m\n\u001b[0;32m    241\u001b[0m                 \u001b[1;32mreturn\u001b[0m \u001b[0mload_dynamic\u001b[0m\u001b[1;33m(\u001b[0m\u001b[0mname\u001b[0m\u001b[1;33m,\u001b[0m \u001b[0mfilename\u001b[0m\u001b[1;33m,\u001b[0m \u001b[0mopened_file\u001b[0m\u001b[1;33m)\u001b[0m\u001b[1;33m\u001b[0m\u001b[0m\n\u001b[0;32m    242\u001b[0m         \u001b[1;32melse\u001b[0m\u001b[1;33m:\u001b[0m\u001b[1;33m\u001b[0m\u001b[0m\n\u001b[1;32m--> 243\u001b[1;33m             \u001b[1;32mreturn\u001b[0m \u001b[0mload_dynamic\u001b[0m\u001b[1;33m(\u001b[0m\u001b[0mname\u001b[0m\u001b[1;33m,\u001b[0m \u001b[0mfilename\u001b[0m\u001b[1;33m,\u001b[0m \u001b[0mfile\u001b[0m\u001b[1;33m)\u001b[0m\u001b[1;33m\u001b[0m\u001b[0m\n\u001b[0m\u001b[0;32m    244\u001b[0m     \u001b[1;32melif\u001b[0m \u001b[0mtype_\u001b[0m \u001b[1;33m==\u001b[0m \u001b[0mPKG_DIRECTORY\u001b[0m\u001b[1;33m:\u001b[0m\u001b[1;33m\u001b[0m\u001b[0m\n\u001b[0;32m    245\u001b[0m         \u001b[1;32mreturn\u001b[0m \u001b[0mload_package\u001b[0m\u001b[1;33m(\u001b[0m\u001b[0mname\u001b[0m\u001b[1;33m,\u001b[0m \u001b[0mfilename\u001b[0m\u001b[1;33m)\u001b[0m\u001b[1;33m\u001b[0m\u001b[0m\n",
      "\u001b[1;32mc:\\program files\\python36\\lib\\imp.py\u001b[0m in \u001b[0;36mload_dynamic\u001b[1;34m(name, path, file)\u001b[0m\n\u001b[0;32m    341\u001b[0m         spec = importlib.machinery.ModuleSpec(\n\u001b[0;32m    342\u001b[0m             name=name, loader=loader, origin=path)\n\u001b[1;32m--> 343\u001b[1;33m         \u001b[1;32mreturn\u001b[0m \u001b[0m_load\u001b[0m\u001b[1;33m(\u001b[0m\u001b[0mspec\u001b[0m\u001b[1;33m)\u001b[0m\u001b[1;33m\u001b[0m\u001b[0m\n\u001b[0m\u001b[0;32m    344\u001b[0m \u001b[1;33m\u001b[0m\u001b[0m\n\u001b[0;32m    345\u001b[0m \u001b[1;32melse\u001b[0m\u001b[1;33m:\u001b[0m\u001b[1;33m\u001b[0m\u001b[0m\n",
      "\u001b[1;31mImportError\u001b[0m: DLL load failed: Não foi possível encontrar o módulo especificado."
     ]
    }
   ],
   "source": [
    "import pandas as pd\n",
    "import numpy as np\n",
    "import math\n",
    "from osgeo import ogr\n",
    "from osgeo import osr\n",
    "\n",
    "import matplotlib.pyplot as plt\n",
    "from PyRadioLoc.Pathloss.Models import FreeSpaceModel\n",
    "from PyRadioLoc.Pathloss.Models import FlatEarthModel\n",
    "from PyRadioLoc.Pathloss.Models import LeeModel\n",
    "from PyRadioLoc.Pathloss.Models import EricssonModel\n",
    "from PyRadioLoc.Pathloss.Models import Cost231Model\n",
    "from PyRadioLoc.Pathloss.Models import Cost231HataModel\n",
    "from PyRadioLoc.Pathloss.Models import OkumuraHataModel\n",
    "from PyRadioLoc.Pathloss.Models import Ecc33Model\n",
    "from PyRadioLoc.Pathloss.Models import SuiModel\n",
    "from PyRadioLoc.Utils.GeoUtils import GeoUtils"
   ]
  },
  {
   "cell_type": "code",
   "execution_count": null,
   "metadata": {},
   "outputs": [],
   "source": [
    "def fingerprint(size):\n",
    "    MIN_LAT = -8.080\n",
    "    MIN_LON = -34.91\n",
    "    MAX_LAT = -8.065\n",
    "    MAX_LON = -34.887\n",
    "\n",
    "    # Create working area (square)\n",
    "    square = {\n",
    "        'topLeft': ogr.Geometry(ogr.wkbPoint),\n",
    "        'bottomLeft': ogr.Geometry(ogr.wkbPoint),\n",
    "        'topRight': ogr.Geometry(ogr.wkbPoint),\n",
    "        'bottomRight': ogr.Geometry(ogr.wkbPoint)\n",
    "    }\n",
    "    square['topLeft'].AddPoint_2D(MIN_LAT, MAX_LON)\n",
    "    square['bottomLeft'].AddPoint_2D(MIN_LAT, MIN_LON)\n",
    "    square['topRight'].AddPoint_2D(MAX_LAT, MAX_LON)\n",
    "    square['bottomRight'].AddPoint_2D(MAX_LAT, MIN_LON)\n",
    "\n",
    "    inSpatialRef = osr.SpatialReference()\n",
    "    inSpatialRef.ImportFromEPSG(4326)\n",
    "    outSpatialRef = osr.SpatialReference()\n",
    "    outSpatialRef.ImportFromEPSG(32725) # 32725: WGS 84 / UTM zone 25S / 31985: SIRGAS 2000 / UTM zone 25S\n",
    "    coordTransform = osr.CoordinateTransformation(inSpatialRef, outSpatialRef)\n",
    "    \n",
    "    square['topLeft'].Transform(coordTransform)\n",
    "    square['bottomLeft'].Transform(coordTransform)\n",
    "    square['topRight'].Transform(coordTransform)\n",
    "    square['bottomRight'].Transform(coordTransform)\n",
    "\n",
    "    # Calculate distance between minimum and maximum latitudes\n",
    "    latDistance = GeoUtils.distanceInKm(MIN_LAT, MIN_LON, MAX_LAT, MIN_LON)*1000 #square['topLeft'].Distance(square['topRight'])\n",
    "    # Get latitude increment\n",
    "    latIncrement =  math.fabs(MIN_LAT - MAX_LAT) / (latDistance/size)\n",
    "    # Get latitude offset\n",
    "    latOffset = latIncrement * math.modf(latDistance/size)[0] / 2\n",
    "\n",
    "    # Calculate distance between minimum and maximum longitudes\n",
    "    lonDistance = GeoUtils.distanceInKm(MIN_LAT, MIN_LON, MIN_LAT, MAX_LON)*1000 #square['topLeft'].Distance(square['bottomLeft'])\n",
    "    # Get longitude increment\n",
    "    lonIncrement = math.fabs(MIN_LON - MAX_LON) / (lonDistance/size)\n",
    "    # Get longitude offset\n",
    "    lonOffset = lonIncrement * math.modf(lonDistance/size)[0] / 2\n",
    "\n",
    "    # Calculate range of coordinates\n",
    "    # Create two lat ranges, one for evens rows and another for odds\n",
    "    # The odds rows must be shifted by latIncrement/2\n",
    "    # So, the topography is changed from: *  *  * to: * * *\n",
    "    #                                     *  *  *      * *\n",
    "    #                                     *  *  *     * * *\n",
    "    # Create also two lon ranges that complements each other \n",
    "\n",
    "    latRangeEvens = np.arange(MIN_LAT + latOffset, MAX_LAT, latIncrement)\n",
    "    lonRangeEvens = np.arange(MIN_LON + lonOffset, MAX_LON, 2 * lonIncrement)\n",
    "\n",
    "    latRangeOdds = np.arange(MIN_LAT + latOffset + latIncrement/2, MAX_LAT, latIncrement) \n",
    "    lonRangeOdds = np.arange(MIN_LON + lonOffset + lonIncrement, MAX_LON, 2 * lonIncrement)\n",
    "\n",
    "    # Calculate each point by doing the cartesian product of the ranges\n",
    "    fpCoordsEvens = np.transpose([np.tile(latRangeEvens, len(lonRangeEvens)), np.repeat(lonRangeEvens, len(latRangeEvens))])\n",
    "    fpCoordsOdds = np.transpose([np.tile(latRangeOdds, len(lonRangeOdds)), np.repeat(lonRangeOdds, len(latRangeOdds))])\n",
    "\n",
    "    # Concatenate both coords list\n",
    "    fpCoords = np.concatenate((fpCoordsEvens, fpCoordsOdds), axis=0)\n",
    "\n",
    "    plt.scatter(fpCoords[:,0], fpCoords[:,1])\n",
    "    plt.show()\n",
    "\n",
    "    return pd.DataFrame(data=fpCoords, columns=['lat','lon'])"
   ]
  },
  {
   "cell_type": "code",
   "execution_count": null,
   "metadata": {},
   "outputs": [],
   "source": [
    "def fingerprint_erbs_pathloss(fpCoords, erbs_csv):\n",
    "    okumura = OkumuraHataModel(900)\n",
    "    fpCoords['RSSI_1'] = okumura.pathloss(GeoUtils.distanceInKm(erbs_csv.lat[0], erbs_csv.lon[0], fpCoords.lat, fpCoords.lon))\n",
    "    fpCoords['RSSI_2'] = okumura.pathloss(GeoUtils.distanceInKm(erbs_csv.lat[1], erbs_csv.lon[1], fpCoords.lat, fpCoords.lon))\n",
    "    fpCoords['RSSI_3'] = okumura.pathloss(GeoUtils.distanceInKm(erbs_csv.lat[2], erbs_csv.lon[2], fpCoords.lat, fpCoords.lon))\n",
    "    fpCoords['RSSI_4'] = okumura.pathloss(GeoUtils.distanceInKm(erbs_csv.lat[3], erbs_csv.lon[3], fpCoords.lat, fpCoords.lon))\n",
    "    fpCoords['RSSI_5'] = okumura.pathloss(GeoUtils.distanceInKm(erbs_csv.lat[4], erbs_csv.lon[4], fpCoords.lat, fpCoords.lon))\n",
    "    fpCoords['RSSI_6'] = okumura.pathloss(GeoUtils.distanceInKm(erbs_csv.lat[5], erbs_csv.lon[5], fpCoords.lat, fpCoords.lon))"
   ]
  },
  {
   "cell_type": "code",
   "execution_count": null,
   "metadata": {},
   "outputs": [],
   "source": []
  }
 ],
 "metadata": {
  "kernelspec": {
   "display_name": "Python 3",
   "language": "python",
   "name": "python3"
  },
  "language_info": {
   "codemirror_mode": {
    "name": "ipython",
    "version": 3
   },
   "file_extension": ".py",
   "mimetype": "text/x-python",
   "name": "python",
   "nbconvert_exporter": "python",
   "pygments_lexer": "ipython3",
   "version": "3.6.5"
  }
 },
 "nbformat": 4,
 "nbformat_minor": 2
}
