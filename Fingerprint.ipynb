{
 "cells": [
  {
   "cell_type": "code",
   "execution_count": 23,
   "metadata": {},
   "outputs": [],
   "source": [
    "import pandas as pd\n",
    "import numpy as np\n",
    "import math\n",
    "from osgeo import ogr\n",
    "from osgeo import osr\n",
    "\n",
    "import matplotlib.pyplot as plt\n",
    "from PyRadioLoc.Pathloss.Models import FreeSpaceModel\n",
    "from PyRadioLoc.Pathloss.Models import FlatEarthModel\n",
    "from PyRadioLoc.Pathloss.Models import LeeModel\n",
    "from PyRadioLoc.Pathloss.Models import EricssonModel\n",
    "from PyRadioLoc.Pathloss.Models import Cost231Model\n",
    "from PyRadioLoc.Pathloss.Models import Cost231HataModel\n",
    "from PyRadioLoc.Pathloss.Models import OkumuraHataModel\n",
    "from PyRadioLoc.Pathloss.Models import Ecc33Model\n",
    "from PyRadioLoc.Pathloss.Models import SuiModel\n",
    "from PyRadioLoc.Utils.GeoUtils import GeoUtils"
   ]
  },
  {
   "cell_type": "code",
   "execution_count": 24,
   "metadata": {},
   "outputs": [],
   "source": [
    "def fingerprint(size):\n",
    "    MIN_LAT = -8.080\n",
    "    MIN_LON = -34.91\n",
    "    MAX_LAT = -8.065\n",
    "    MAX_LON = -34.887\n",
    "\n",
    "    # Create working area (square)\n",
    "    square = {\n",
    "        'topLeft': ogr.Geometry(ogr.wkbPoint),\n",
    "        'bottomLeft': ogr.Geometry(ogr.wkbPoint),\n",
    "        'topRight': ogr.Geometry(ogr.wkbPoint),\n",
    "        'bottomRight': ogr.Geometry(ogr.wkbPoint)\n",
    "    }\n",
    "    square['topLeft'].AddPoint_2D(MIN_LAT, MAX_LON)\n",
    "    square['bottomLeft'].AddPoint_2D(MIN_LAT, MIN_LON)\n",
    "    square['topRight'].AddPoint_2D(MAX_LAT, MAX_LON)\n",
    "    square['bottomRight'].AddPoint_2D(MAX_LAT, MIN_LON)\n",
    "\n",
    "    inSpatialRef = osr.SpatialReference()\n",
    "    inSpatialRef.ImportFromEPSG(4326)\n",
    "    outSpatialRef = osr.SpatialReference()\n",
    "    outSpatialRef.ImportFromEPSG(32725) # 32725: WGS 84 / UTM zone 25S / 31985: SIRGAS 2000 / UTM zone 25S\n",
    "    coordTransform = osr.CoordinateTransformation(inSpatialRef, outSpatialRef)\n",
    "    \n",
    "    square['topLeft'].Transform(coordTransform)\n",
    "    square['bottomLeft'].Transform(coordTransform)\n",
    "    square['topRight'].Transform(coordTransform)\n",
    "    square['bottomRight'].Transform(coordTransform)\n",
    "\n",
    "    # Calculate distance between minimum and maximum latitudes\n",
    "    latDistance = GeoUtils.distanceInKm(MIN_LAT, MIN_LON, MAX_LAT, MIN_LON)*1000 #square['topLeft'].Distance(square['topRight'])\n",
    "    # Get latitude increment\n",
    "    latIncrement =  math.fabs(MIN_LAT - MAX_LAT) / (latDistance/size)\n",
    "    # Get latitude offset\n",
    "    latOffset = latIncrement * math.modf(latDistance/size)[0] / 2\n",
    "\n",
    "    # Calculate distance between minimum and maximum longitudes\n",
    "    lonDistance = GeoUtils.distanceInKm(MIN_LAT, MIN_LON, MIN_LAT, MAX_LON)*1000 #square['topLeft'].Distance(square['bottomLeft'])\n",
    "    # Get longitude increment\n",
    "    lonIncrement = math.fabs(MIN_LON - MAX_LON) / (lonDistance/size)\n",
    "    # Get longitude offset\n",
    "    lonOffset = lonIncrement * math.modf(lonDistance/size)[0] / 2\n",
    "\n",
    "    # Calculate range of coordinates\n",
    "    # Create two lat ranges, one for evens rows and another for odds\n",
    "    # The odds rows must be shifted by latIncrement/2\n",
    "    # So, the topography is changed from: *  *  * to: * * *\n",
    "    #                                     *  *  *      * *\n",
    "    #                                     *  *  *     * * *\n",
    "    # Create also two lon ranges that complements each other \n",
    "\n",
    "    latRangeEvens = np.arange(MIN_LAT + latOffset, MAX_LAT, latIncrement)\n",
    "    lonRangeEvens = np.arange(MIN_LON + lonOffset, MAX_LON, 2 * lonIncrement)\n",
    "\n",
    "    latRangeOdds = np.arange(MIN_LAT + latOffset + latIncrement/2, MAX_LAT, latIncrement) \n",
    "    lonRangeOdds = np.arange(MIN_LON + lonOffset + lonIncrement, MAX_LON, 2 * lonIncrement)\n",
    "\n",
    "    # Calculate each point by doing the cartesian product of the ranges\n",
    "    fpCoordsEvens = np.transpose([np.tile(latRangeEvens, len(lonRangeEvens)), np.repeat(lonRangeEvens, len(latRangeEvens))])\n",
    "    fpCoordsOdds = np.transpose([np.tile(latRangeOdds, len(lonRangeOdds)), np.repeat(lonRangeOdds, len(latRangeOdds))])\n",
    "\n",
    "    # Concatenate both coords list\n",
    "    fpCoords = np.concatenate((fpCoordsEvens, fpCoordsOdds), axis=0)\n",
    "\n",
    "    plt.scatter(fpCoords[:,0], fpCoords[:,1])\n",
    "    plt.show()\n",
    "\n",
    "    return pd.DataFrame(data=fpCoords, columns=['lat','lon'])"
   ]
  },
  {
   "cell_type": "code",
   "execution_count": 25,
   "metadata": {},
   "outputs": [],
   "source": [
    "def fingerprint_erbs_pathloss(fpCoords, erbs_csv):\n",
    "    okumura = OkumuraHataModel(900)\n",
    "    fpCoords['RSSI_1'] = okumura.pathloss(GeoUtils.distanceInKm(erbs_csv.lat[0], erbs_csv.lon[0], fpCoords.lat, fpCoords.lon))\n",
    "    fpCoords['RSSI_2'] = okumura.pathloss(GeoUtils.distanceInKm(erbs_csv.lat[1], erbs_csv.lon[1], fpCoords.lat, fpCoords.lon))\n",
    "    fpCoords['RSSI_3'] = okumura.pathloss(GeoUtils.distanceInKm(erbs_csv.lat[2], erbs_csv.lon[2], fpCoords.lat, fpCoords.lon))\n",
    "    fpCoords['RSSI_4'] = okumura.pathloss(GeoUtils.distanceInKm(erbs_csv.lat[3], erbs_csv.lon[3], fpCoords.lat, fpCoords.lon))\n",
    "    fpCoords['RSSI_5'] = okumura.pathloss(GeoUtils.distanceInKm(erbs_csv.lat[4], erbs_csv.lon[4], fpCoords.lat, fpCoords.lon))\n",
    "    fpCoords['RSSI_6'] = okumura.pathloss(GeoUtils.distanceInKm(erbs_csv.lat[5], erbs_csv.lon[5], fpCoords.lat, fpCoords.lon))"
   ]
  },
  {
   "cell_type": "code",
   "execution_count": 26,
   "metadata": {},
   "outputs": [
    {
     "ename": "TypeError",
     "evalue": "in method 'Geometry_Transform', argument 2 of type 'OSRCoordinateTransformationShadow *'",
     "output_type": "error",
     "traceback": [
      "\u001b[1;31m---------------------------------------------------------------------------\u001b[0m",
      "\u001b[1;31mTypeError\u001b[0m                                 Traceback (most recent call last)",
      "\u001b[1;32m<ipython-input-26-8b24b2d878f9>\u001b[0m in \u001b[0;36m<module>\u001b[1;34m\u001b[0m\n\u001b[1;32m----> 1\u001b[1;33m \u001b[0mfpCoords\u001b[0m \u001b[1;33m=\u001b[0m \u001b[0mfingerprint\u001b[0m\u001b[1;33m(\u001b[0m\u001b[1;36m20\u001b[0m\u001b[1;33m)\u001b[0m\u001b[1;33m\u001b[0m\u001b[1;33m\u001b[0m\u001b[0m\n\u001b[0m",
      "\u001b[1;32m<ipython-input-24-7112389a5b40>\u001b[0m in \u001b[0;36mfingerprint\u001b[1;34m(size)\u001b[0m\n\u001b[0;32m     23\u001b[0m     \u001b[0mcoordTransform\u001b[0m \u001b[1;33m=\u001b[0m \u001b[0mosr\u001b[0m\u001b[1;33m.\u001b[0m\u001b[0mCoordinateTransformation\u001b[0m\u001b[1;33m(\u001b[0m\u001b[0minSpatialRef\u001b[0m\u001b[1;33m,\u001b[0m \u001b[0moutSpatialRef\u001b[0m\u001b[1;33m)\u001b[0m\u001b[1;33m\u001b[0m\u001b[1;33m\u001b[0m\u001b[0m\n\u001b[0;32m     24\u001b[0m \u001b[1;33m\u001b[0m\u001b[0m\n\u001b[1;32m---> 25\u001b[1;33m     \u001b[0msquare\u001b[0m\u001b[1;33m[\u001b[0m\u001b[1;34m'topLeft'\u001b[0m\u001b[1;33m]\u001b[0m\u001b[1;33m.\u001b[0m\u001b[0mTransform\u001b[0m\u001b[1;33m(\u001b[0m\u001b[0mcoordTransform\u001b[0m\u001b[1;33m)\u001b[0m\u001b[1;33m\u001b[0m\u001b[1;33m\u001b[0m\u001b[0m\n\u001b[0m\u001b[0;32m     26\u001b[0m     \u001b[0msquare\u001b[0m\u001b[1;33m[\u001b[0m\u001b[1;34m'bottomLeft'\u001b[0m\u001b[1;33m]\u001b[0m\u001b[1;33m.\u001b[0m\u001b[0mTransform\u001b[0m\u001b[1;33m(\u001b[0m\u001b[0mcoordTransform\u001b[0m\u001b[1;33m)\u001b[0m\u001b[1;33m\u001b[0m\u001b[1;33m\u001b[0m\u001b[0m\n\u001b[0;32m     27\u001b[0m     \u001b[0msquare\u001b[0m\u001b[1;33m[\u001b[0m\u001b[1;34m'topRight'\u001b[0m\u001b[1;33m]\u001b[0m\u001b[1;33m.\u001b[0m\u001b[0mTransform\u001b[0m\u001b[1;33m(\u001b[0m\u001b[0mcoordTransform\u001b[0m\u001b[1;33m)\u001b[0m\u001b[1;33m\u001b[0m\u001b[1;33m\u001b[0m\u001b[0m\n",
      "\u001b[1;32mC:\\ProgramData\\Anaconda3\\lib\\site-packages\\osgeo\\ogr.py\u001b[0m in \u001b[0;36mTransform\u001b[1;34m(self, *args)\u001b[0m\n\u001b[0;32m   7371\u001b[0m         \u001b[0mOGRERR_NONE\u001b[0m \u001b[0mon\u001b[0m \u001b[0msuccess\u001b[0m \u001b[1;32mor\u001b[0m \u001b[0man\u001b[0m \u001b[0merror\u001b[0m \u001b[0mcode\u001b[0m\u001b[1;33m.\u001b[0m\u001b[1;33m\u001b[0m\u001b[1;33m\u001b[0m\u001b[0m\n\u001b[0;32m   7372\u001b[0m         \"\"\"\n\u001b[1;32m-> 7373\u001b[1;33m         \u001b[1;32mreturn\u001b[0m \u001b[0m_ogr\u001b[0m\u001b[1;33m.\u001b[0m\u001b[0mGeometry_Transform\u001b[0m\u001b[1;33m(\u001b[0m\u001b[0mself\u001b[0m\u001b[1;33m,\u001b[0m \u001b[1;33m*\u001b[0m\u001b[0margs\u001b[0m\u001b[1;33m)\u001b[0m\u001b[1;33m\u001b[0m\u001b[1;33m\u001b[0m\u001b[0m\n\u001b[0m\u001b[0;32m   7374\u001b[0m \u001b[1;33m\u001b[0m\u001b[0m\n\u001b[0;32m   7375\u001b[0m \u001b[1;33m\u001b[0m\u001b[0m\n",
      "\u001b[1;31mTypeError\u001b[0m: in method 'Geometry_Transform', argument 2 of type 'OSRCoordinateTransformationShadow *'"
     ]
    }
   ],
   "source": [
    "fpCoords = fingerprint(20)"
   ]
  },
  {
   "cell_type": "code",
   "execution_count": 27,
   "metadata": {
    "scrolled": true
   },
   "outputs": [
    {
     "ename": "NameError",
     "evalue": "name 'Geodesic' is not defined",
     "output_type": "error",
     "traceback": [
      "\u001b[1;31m---------------------------------------------------------------------------\u001b[0m",
      "\u001b[1;31mNameError\u001b[0m                                 Traceback (most recent call last)",
      "\u001b[1;32m<ipython-input-27-3886c09ea439>\u001b[0m in \u001b[0;36m<module>\u001b[1;34m\u001b[0m\n\u001b[0;32m     33\u001b[0m \u001b[1;33m\u001b[0m\u001b[0m\n\u001b[0;32m     34\u001b[0m \u001b[1;32mif\u001b[0m \u001b[0m__name__\u001b[0m \u001b[1;33m==\u001b[0m \u001b[1;34m'__main__'\u001b[0m\u001b[1;33m:\u001b[0m\u001b[1;33m\u001b[0m\u001b[1;33m\u001b[0m\u001b[0m\n\u001b[1;32m---> 35\u001b[1;33m     \u001b[0mmain\u001b[0m\u001b[1;33m(\u001b[0m\u001b[1;33m)\u001b[0m\u001b[1;33m\u001b[0m\u001b[1;33m\u001b[0m\u001b[0m\n\u001b[0m",
      "\u001b[1;32m<ipython-input-27-3886c09ea439>\u001b[0m in \u001b[0;36mmain\u001b[1;34m()\u001b[0m\n\u001b[0;32m     12\u001b[0m \u001b[1;33m\u001b[0m\u001b[0m\n\u001b[0;32m     13\u001b[0m \u001b[1;32mdef\u001b[0m \u001b[0mmain\u001b[0m\u001b[1;33m(\u001b[0m\u001b[1;33m)\u001b[0m\u001b[1;33m:\u001b[0m\u001b[1;33m\u001b[0m\u001b[1;33m\u001b[0m\u001b[0m\n\u001b[1;32m---> 14\u001b[1;33m     delta_x = max(GeoUtils.distanceInKm(LAT_INI, LNG_INI, LAT_INI, LNG_FIM),\n\u001b[0m\u001b[0;32m     15\u001b[0m         GeoUtils.distanceInKm(LAT_FIM, LNG_INI, LAT_FIM, LNG_FIM))\n\u001b[0;32m     16\u001b[0m     delta_y = max(GeoUtils.distanceInKm(LAT_INI, LNG_INI, LAT_FIM, LNG_INI),\n",
      "\u001b[1;32m~\\Documents\\cmoveis\\PyRadioLoc\\Utils\\GeoUtils.py\u001b[0m in \u001b[0;36mdistanceInKm\u001b[1;34m(lat1, lon1, lat2, lon2)\u001b[0m\n\u001b[0;32m     29\u001b[0m     \u001b[1;33m@\u001b[0m\u001b[0mstaticmethod\u001b[0m\u001b[1;33m\u001b[0m\u001b[1;33m\u001b[0m\u001b[0m\n\u001b[0;32m     30\u001b[0m     \u001b[1;32mdef\u001b[0m \u001b[0mdistanceInKm\u001b[0m\u001b[1;33m(\u001b[0m\u001b[0mlat1\u001b[0m\u001b[1;33m,\u001b[0m\u001b[0mlon1\u001b[0m\u001b[1;33m,\u001b[0m\u001b[0mlat2\u001b[0m\u001b[1;33m,\u001b[0m\u001b[0mlon2\u001b[0m\u001b[1;33m)\u001b[0m\u001b[1;33m:\u001b[0m\u001b[1;33m\u001b[0m\u001b[1;33m\u001b[0m\u001b[0m\n\u001b[1;32m---> 31\u001b[1;33m        \u001b[1;32mreturn\u001b[0m \u001b[0mGeoUtils\u001b[0m\u001b[1;33m.\u001b[0m\u001b[0mdistanceGeoLibArr\u001b[0m\u001b[1;33m(\u001b[0m\u001b[0mlat1\u001b[0m\u001b[1;33m,\u001b[0m\u001b[0mlon1\u001b[0m\u001b[1;33m,\u001b[0m\u001b[0mlat2\u001b[0m\u001b[1;33m,\u001b[0m\u001b[0mlon2\u001b[0m\u001b[1;33m,\u001b[0m\u001b[1;32mlambda\u001b[0m \u001b[0mg\u001b[0m\u001b[1;33m:\u001b[0m\u001b[0mg\u001b[0m\u001b[1;33m[\u001b[0m\u001b[1;34m's12'\u001b[0m\u001b[1;33m]\u001b[0m\u001b[1;33m/\u001b[0m\u001b[1;36m1000\u001b[0m\u001b[1;33m)\u001b[0m\u001b[1;33m\u001b[0m\u001b[1;33m\u001b[0m\u001b[0m\n\u001b[0m\u001b[0;32m     32\u001b[0m \u001b[1;33m\u001b[0m\u001b[0m\n\u001b[0;32m     33\u001b[0m     \u001b[1;33m@\u001b[0m\u001b[0mstaticmethod\u001b[0m\u001b[1;33m\u001b[0m\u001b[1;33m\u001b[0m\u001b[0m\n",
      "\u001b[1;32m~\\Documents\\cmoveis\\PyRadioLoc\\Utils\\GeoUtils.py\u001b[0m in \u001b[0;36mdistanceGeoLibArr\u001b[1;34m(lat1, lon1, lat2, lon2, extract)\u001b[0m\n\u001b[0;32m      7\u001b[0m     \u001b[1;32mdef\u001b[0m \u001b[0mdistanceGeoLibArr\u001b[0m\u001b[1;33m(\u001b[0m\u001b[0mlat1\u001b[0m\u001b[1;33m,\u001b[0m\u001b[0mlon1\u001b[0m\u001b[1;33m,\u001b[0m\u001b[0mlat2\u001b[0m\u001b[1;33m,\u001b[0m\u001b[0mlon2\u001b[0m\u001b[1;33m,\u001b[0m\u001b[0mextract\u001b[0m\u001b[1;33m)\u001b[0m\u001b[1;33m:\u001b[0m\u001b[1;33m\u001b[0m\u001b[1;33m\u001b[0m\u001b[0m\n\u001b[0;32m      8\u001b[0m         \u001b[1;32mif\u001b[0m \u001b[1;33m(\u001b[0m\u001b[0mnp\u001b[0m\u001b[1;33m.\u001b[0m\u001b[0misscalar\u001b[0m\u001b[1;33m(\u001b[0m\u001b[0mlat1\u001b[0m\u001b[1;33m)\u001b[0m \u001b[1;32mand\u001b[0m \u001b[0mnp\u001b[0m\u001b[1;33m.\u001b[0m\u001b[0misscalar\u001b[0m\u001b[1;33m(\u001b[0m\u001b[0mlat2\u001b[0m\u001b[1;33m)\u001b[0m\u001b[1;33m)\u001b[0m\u001b[1;33m:\u001b[0m\u001b[1;33m\u001b[0m\u001b[1;33m\u001b[0m\u001b[0m\n\u001b[1;32m----> 9\u001b[1;33m             \u001b[1;32mreturn\u001b[0m \u001b[0mGeoUtils\u001b[0m\u001b[1;33m.\u001b[0m\u001b[0mdistanceGeoLib\u001b[0m\u001b[1;33m(\u001b[0m\u001b[0mlat1\u001b[0m\u001b[1;33m,\u001b[0m\u001b[0mlon1\u001b[0m\u001b[1;33m,\u001b[0m\u001b[0mlat2\u001b[0m\u001b[1;33m,\u001b[0m\u001b[0mlon2\u001b[0m\u001b[1;33m,\u001b[0m\u001b[0mextract\u001b[0m\u001b[1;33m)\u001b[0m\u001b[1;33m\u001b[0m\u001b[1;33m\u001b[0m\u001b[0m\n\u001b[0m\u001b[0;32m     10\u001b[0m         \u001b[1;32melif\u001b[0m \u001b[1;33m(\u001b[0m\u001b[0mnp\u001b[0m\u001b[1;33m.\u001b[0m\u001b[0misscalar\u001b[0m\u001b[1;33m(\u001b[0m\u001b[0mlat1\u001b[0m\u001b[1;33m)\u001b[0m \u001b[1;32mand\u001b[0m \u001b[1;33m(\u001b[0m\u001b[1;32mnot\u001b[0m \u001b[0mnp\u001b[0m\u001b[1;33m.\u001b[0m\u001b[0misscalar\u001b[0m\u001b[1;33m(\u001b[0m\u001b[0mlat2\u001b[0m\u001b[1;33m)\u001b[0m\u001b[1;33m)\u001b[0m\u001b[1;33m)\u001b[0m\u001b[1;33m:\u001b[0m\u001b[1;33m\u001b[0m\u001b[1;33m\u001b[0m\u001b[0m\n\u001b[0;32m     11\u001b[0m             \u001b[0mresp\u001b[0m\u001b[1;33m=\u001b[0m\u001b[1;33m[\u001b[0m\u001b[1;33m]\u001b[0m\u001b[1;33m\u001b[0m\u001b[1;33m\u001b[0m\u001b[0m\n",
      "\u001b[1;32m~\\Documents\\cmoveis\\PyRadioLoc\\Utils\\GeoUtils.py\u001b[0m in \u001b[0;36mdistanceGeoLib\u001b[1;34m(lat1, lon1, lat2, lon2, extract)\u001b[0m\n\u001b[0;32m     22\u001b[0m     \u001b[1;33m@\u001b[0m\u001b[0mstaticmethod\u001b[0m\u001b[1;33m\u001b[0m\u001b[1;33m\u001b[0m\u001b[0m\n\u001b[0;32m     23\u001b[0m     \u001b[1;32mdef\u001b[0m \u001b[0mdistanceGeoLib\u001b[0m\u001b[1;33m(\u001b[0m\u001b[0mlat1\u001b[0m\u001b[1;33m,\u001b[0m\u001b[0mlon1\u001b[0m\u001b[1;33m,\u001b[0m\u001b[0mlat2\u001b[0m\u001b[1;33m,\u001b[0m\u001b[0mlon2\u001b[0m\u001b[1;33m,\u001b[0m\u001b[0mextract\u001b[0m\u001b[1;33m)\u001b[0m\u001b[1;33m:\u001b[0m\u001b[1;33m\u001b[0m\u001b[1;33m\u001b[0m\u001b[0m\n\u001b[1;32m---> 24\u001b[1;33m         \u001b[0mMASK\u001b[0m\u001b[1;33m=\u001b[0m\u001b[0mGeodesic\u001b[0m\u001b[1;33m.\u001b[0m\u001b[0mDISTANCE\u001b[0m\u001b[1;33m|\u001b[0m\u001b[0mGeodesic\u001b[0m\u001b[1;33m.\u001b[0m\u001b[0mAZIMUTH\u001b[0m\u001b[1;33m|\u001b[0m\u001b[0mGeodesic\u001b[0m\u001b[1;33m.\u001b[0m\u001b[0mREDUCEDLENGTH\u001b[0m\u001b[1;33m\u001b[0m\u001b[1;33m\u001b[0m\u001b[0m\n\u001b[0m\u001b[0;32m     25\u001b[0m         \u001b[0mgab\u001b[0m\u001b[1;33m=\u001b[0m\u001b[0mGeodesic\u001b[0m\u001b[1;33m.\u001b[0m\u001b[0mWGS84\u001b[0m\u001b[1;33m.\u001b[0m\u001b[0mInverse\u001b[0m\u001b[1;33m(\u001b[0m\u001b[0mlat1\u001b[0m\u001b[1;33m,\u001b[0m\u001b[0mlon1\u001b[0m\u001b[1;33m,\u001b[0m\u001b[0mlat2\u001b[0m\u001b[1;33m,\u001b[0m\u001b[0mlon2\u001b[0m\u001b[1;33m,\u001b[0m\u001b[0mMASK\u001b[0m\u001b[1;33m)\u001b[0m\u001b[1;33m\u001b[0m\u001b[1;33m\u001b[0m\u001b[0m\n\u001b[0;32m     26\u001b[0m         \u001b[0mresp\u001b[0m \u001b[1;33m=\u001b[0m \u001b[0mextract\u001b[0m\u001b[1;33m(\u001b[0m\u001b[0mgab\u001b[0m\u001b[1;33m)\u001b[0m\u001b[1;33m\u001b[0m\u001b[1;33m\u001b[0m\u001b[0m\n",
      "\u001b[1;31mNameError\u001b[0m: name 'Geodesic' is not defined"
     ]
    }
   ],
   "source": [
    "import pandas as pd\n",
    "import numpy as np\n",
    "import math\n",
    "\n",
    "from PyRadioLoc.Utils.GeoUtils import GeoUtils\n",
    "\n",
    "R = 5\n",
    "LAT_INI = -8.080\n",
    "LNG_INI = -34.91\n",
    "LAT_FIM = -8.060\n",
    "LNG_FIM = -34.885\n",
    "\n",
    "def main():\n",
    "    delta_x = max(GeoUtils.distanceInKm(LAT_INI, LNG_INI, LAT_INI, LNG_FIM),\n",
    "        GeoUtils.distanceInKm(LAT_FIM, LNG_INI, LAT_FIM, LNG_FIM))\n",
    "    delta_y = max(GeoUtils.distanceInKm(LAT_INI, LNG_INI, LAT_FIM, LNG_INI),\n",
    "        GeoUtils.distanceInKm(LAT_INI, LNG_FIM, LAT_FIM, LNG_FIM))\n",
    "\n",
    "    n_cells_x = math.ceil((delta_x * 1000) / R)\n",
    "    n_cells_y = math.ceil((delta_y * 1000) / R)\n",
    "\n",
    "    inc_lat = (LAT_FIM - LAT_INI) / n_cells_x\n",
    "    inc_lng = (LNG_FIM - LNG_INI) / n_cells_y\n",
    "\n",
    "    print('lat,lon')\n",
    "\n",
    "    for i in range(n_cells_x):\n",
    "        for j in range(n_cells_y):\n",
    "            lat = LAT_INI + i * inc_lat\n",
    "            lng = LNG_INI + j * inc_lng\n",
    "            print('{},{}'.format(lat, lng))\n",
    "\n",
    "\n",
    "if __name__ == '__main__':\n",
    "    main()"
   ]
  }
 ],
 "metadata": {
  "kernelspec": {
   "display_name": "Python 3",
   "language": "python",
   "name": "python3"
  }
 },
 "nbformat": 4,
 "nbformat_minor": 2
}
